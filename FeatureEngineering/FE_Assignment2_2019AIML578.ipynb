{
 "cells": [
  {
   "cell_type": "markdown",
   "metadata": {},
   "source": [
    "<h1 align='center' style='background-color:yellow;'>Feature Engineering Assignment 2</h1> "
   ]
  },
  {
   "cell_type": "code",
   "execution_count": 1,
   "metadata": {},
   "outputs": [],
   "source": [
    "import pandas as pd\n",
    "from collections import Counter\n",
    "import numpy as np\n",
    "import matplotlib.pyplot as plt\n",
    "from tabulate import tabulate\n",
    "import warnings\n",
    "warnings.filterwarnings('ignore')"
   ]
  },
  {
   "cell_type": "code",
   "execution_count": 2,
   "metadata": {},
   "outputs": [
    {
     "data": {
      "text/html": [
       "<div>\n",
       "<style scoped>\n",
       "    .dataframe tbody tr th:only-of-type {\n",
       "        vertical-align: middle;\n",
       "    }\n",
       "\n",
       "    .dataframe tbody tr th {\n",
       "        vertical-align: top;\n",
       "    }\n",
       "\n",
       "    .dataframe thead th {\n",
       "        text-align: right;\n",
       "    }\n",
       "</style>\n",
       "<table border=\"1\" class=\"dataframe\">\n",
       "  <thead>\n",
       "    <tr style=\"text-align: right;\">\n",
       "      <th></th>\n",
       "      <th>0</th>\n",
       "      <th>1</th>\n",
       "      <th>2</th>\n",
       "      <th>3</th>\n",
       "      <th>4</th>\n",
       "    </tr>\n",
       "  </thead>\n",
       "  <tbody>\n",
       "    <tr>\n",
       "      <th>0</th>\n",
       "      <td>5.1</td>\n",
       "      <td>3.5</td>\n",
       "      <td>1.4</td>\n",
       "      <td>0.2</td>\n",
       "      <td>Iris-setosa</td>\n",
       "    </tr>\n",
       "    <tr>\n",
       "      <th>1</th>\n",
       "      <td>4.9</td>\n",
       "      <td>3.0</td>\n",
       "      <td>1.4</td>\n",
       "      <td>0.2</td>\n",
       "      <td>Iris-setosa</td>\n",
       "    </tr>\n",
       "    <tr>\n",
       "      <th>2</th>\n",
       "      <td>4.7</td>\n",
       "      <td>3.2</td>\n",
       "      <td>1.3</td>\n",
       "      <td>0.2</td>\n",
       "      <td>Iris-setosa</td>\n",
       "    </tr>\n",
       "    <tr>\n",
       "      <th>3</th>\n",
       "      <td>4.6</td>\n",
       "      <td>3.1</td>\n",
       "      <td>1.5</td>\n",
       "      <td>0.2</td>\n",
       "      <td>Iris-setosa</td>\n",
       "    </tr>\n",
       "    <tr>\n",
       "      <th>4</th>\n",
       "      <td>5.0</td>\n",
       "      <td>3.6</td>\n",
       "      <td>1.4</td>\n",
       "      <td>0.2</td>\n",
       "      <td>Iris-setosa</td>\n",
       "    </tr>\n",
       "  </tbody>\n",
       "</table>\n",
       "</div>"
      ],
      "text/plain": [
       "     0    1    2    3            4\n",
       "0  5.1  3.5  1.4  0.2  Iris-setosa\n",
       "1  4.9  3.0  1.4  0.2  Iris-setosa\n",
       "2  4.7  3.2  1.3  0.2  Iris-setosa\n",
       "3  4.6  3.1  1.5  0.2  Iris-setosa\n",
       "4  5.0  3.6  1.4  0.2  Iris-setosa"
      ]
     },
     "execution_count": 2,
     "metadata": {},
     "output_type": "execute_result"
    }
   ],
   "source": [
    "iris = pd.read_csv('iris.data', header=None)\n",
    "iris.head()"
   ]
  },
  {
   "cell_type": "code",
   "execution_count": 3,
   "metadata": {},
   "outputs": [],
   "source": [
    "class Discretization:\n",
    "    ''' A process that transforms quantitative data into qualitative data '''\n",
    "    \n",
    "    def __init__(cls):\n",
    "        print('Data discretization process started')\n",
    "        \n",
    "    def get_new_intervals(cls, intervals, chi, min_chi):\n",
    "        ''' To merge the interval based on minimum chi square value '''\n",
    "        \n",
    "        min_chi_index = np.where(chi == min_chi)[0][0]\n",
    "        new_intervals = []\n",
    "        skip = False\n",
    "        done = False\n",
    "        for i in range(len(intervals)):\n",
    "            if skip:\n",
    "                skip = False\n",
    "                continue\n",
    "            if i == min_chi_index and not done:\n",
    "                t = intervals[i] + intervals[i+1]\n",
    "                new_intervals.append([min(t), max(t)])\n",
    "                skip = True\n",
    "                done = True\n",
    "            else:\n",
    "                new_intervals.append(intervals[i])\n",
    "        return new_intervals        \n",
    "        \n",
    "    def get_chimerge_intervals(cls, data, colName, label, max_intervals):\n",
    "        '''\n",
    "            1. Compute the χ 2 value for each pair of adjacent intervals\n",
    "            2. Merge the pair of adjacent intervals with the lowest χ 2 value\n",
    "            3. Repeat  and  until χ 2 values of all adjacent pairs exceeds a threshold\n",
    "        '''\n",
    "        \n",
    "        # Getting unique values of input column\n",
    "        distinct_vals = np.unique(data[colName])\n",
    "        \n",
    "        # Getting unique values of output column\n",
    "        labels = np.unique(data[label])\n",
    "        \n",
    "        # Initially set the value to zero for all unique output column values\n",
    "        empty_count = {l: 0 for l in labels}\n",
    "        intervals = [[distinct_vals[i], distinct_vals[i]] for i in range(len(distinct_vals))]\n",
    "        while len(intervals) > max_intervals:\n",
    "            chi = []\n",
    "            for i in range(len(intervals)-1):\n",
    "                \n",
    "                # Find chi square for Interval 1\n",
    "                row1 = data[data[colName].between(intervals[i][0], intervals[i][1])]\n",
    "                # Find chi square for Interval 2\n",
    "                row2 = data[data[colName].between(intervals[i+1][0], intervals[i+1][1])]\n",
    "                total = len(row1) + len(row2)\n",
    "                \n",
    "                # Generate Contigency\n",
    "                count_0 = np.array([v for i, v in {**empty_count, **Counter(row1[label])}.items()])\n",
    "                count_1 = np.array([v for i, v in {**empty_count, **Counter(row2[label])}.items()])\n",
    "                count_total = count_0 + count_1\n",
    "                \n",
    "                # Find the expected value by the following formula\n",
    "                # Expected Value → ( Row Sum * Column Sum ) / Total Sum\n",
    "                expected_0 = count_total*sum(count_0)/total\n",
    "                expected_1 = count_total*sum(count_1)/total\n",
    "                chi_ = (count_0 - expected_0)**2/expected_0 + (count_1 - expected_1)**2/expected_1\n",
    "                \n",
    "                # Store the chi value to find minimum chi value\n",
    "                chi_ = np.nan_to_num(chi_)\n",
    "                chi.append(sum(chi_))\n",
    "            min_chi = min(chi)\n",
    "            \n",
    "            intervals = cls.get_new_intervals(intervals, chi, min_chi)\n",
    "        print(' Min chi square value is ' + str(min_chi))\n",
    "        return intervals"
   ]
  },
  {
   "cell_type": "code",
   "execution_count": 7,
   "metadata": {},
   "outputs": [
    {
     "name": "stdout",
     "output_type": "stream",
     "text": [
      "Data discretization process started\n",
      "\n",
      " Interval for 0\n",
      " Min chi square value is 5.065681444991789\n",
      "╒══════════════════════════════════════════════════════════════════════════╕\n",
      "│ [[4.3, 4.8], [4.9, 4.9], [5.0, 5.4], [5.5, 5.7], [5.8, 7.0], [7.1, 7.9]] │\n",
      "╘══════════════════════════════════════════════════════════════════════════╛\n",
      "\n",
      " Interval for 1\n",
      " Min chi square value is 1.44\n",
      "╒══════════════════════════════════════════════════════════════════════════╕\n",
      "│ [[2.0, 2.2], [2.3, 2.4], [2.5, 2.8], [2.9, 2.9], [3.0, 3.3], [3.4, 4.4]] │\n",
      "╘══════════════════════════════════════════════════════════════════════════╛\n",
      "\n",
      " Interval for 2\n",
      " Min chi square value is 1.0666666666666667\n",
      "╒══════════════════════════════════════════════════════════════════════════╕\n",
      "│ [[1.0, 1.9], [3.0, 4.4], [4.5, 4.7], [4.8, 4.9], [5.0, 5.1], [5.2, 6.9]] │\n",
      "╘══════════════════════════════════════════════════════════════════════════╛\n",
      "\n",
      " Interval for 3\n",
      " Min chi square value is 0.24000000000000005\n",
      "╒══════════════════════════════════════════════════════════════════════════╕\n",
      "│ [[0.1, 0.6], [1.0, 1.3], [1.4, 1.6], [1.7, 1.7], [1.8, 1.8], [1.9, 2.5]] │\n",
      "╘══════════════════════════════════════════════════════════════════════════╛\n"
     ]
    }
   ],
   "source": [
    "if __name__ == '__main__':\n",
    "    max_intervals = 6\n",
    "    obj = Discretization()\n",
    "    for colName in iris.columns[0:-1]:\n",
    "        print('\\n Interval for', colName)\n",
    "        intervals = obj.get_chimerge_intervals(iris, colName, iris.columns[-1], max_intervals)\n",
    "        print(tabulate([[intervals]], tablefmt='fancy_grid'))"
   ]
  },
  {
   "cell_type": "code",
   "execution_count": 5,
   "metadata": {},
   "outputs": [
    {
     "name": "stdout",
     "output_type": "stream",
     "text": [
      "END OF NOTEBOOK\n"
     ]
    }
   ],
   "source": [
    "print('END OF NOTEBOOK')"
   ]
  }
 ],
 "metadata": {
  "kernelspec": {
   "display_name": "Python 3",
   "language": "python",
   "name": "python3"
  },
  "language_info": {
   "codemirror_mode": {
    "name": "ipython",
    "version": 3
   },
   "file_extension": ".py",
   "mimetype": "text/x-python",
   "name": "python",
   "nbconvert_exporter": "python",
   "pygments_lexer": "ipython3",
   "version": "3.7.6"
  }
 },
 "nbformat": 4,
 "nbformat_minor": 4
}
