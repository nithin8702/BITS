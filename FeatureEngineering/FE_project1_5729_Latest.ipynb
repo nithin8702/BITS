{
 "cells": [
  {
   "cell_type": "markdown",
   "metadata": {},
   "source": [
    "<h1 align=\"center\" style=\"background-color:yellow;\">Feature Engineering Project - Web Scrapping</h1>"
   ]
  },
  {
   "cell_type": "code",
   "execution_count": 1,
   "metadata": {},
   "outputs": [
    {
     "data": {
      "text/plain": [
       "'\\n!pip install scrapy\\n!pip install tabulate\\n'"
      ]
     },
     "execution_count": 1,
     "metadata": {},
     "output_type": "execute_result"
    }
   ],
   "source": [
    "'''\n",
    "!pip install scrapy\n",
    "!pip install tabulate\n",
    "'''"
   ]
  },
  {
   "cell_type": "code",
   "execution_count": 2,
   "metadata": {},
   "outputs": [],
   "source": [
    "import os\n",
    "import logging\n",
    "import json\n",
    "import numpy as np\n",
    "import pandas as pd\n",
    "import matplotlib.pyplot as plt\n",
    "import seaborn as sns\n",
    "import scrapy\n",
    "from scrapy.crawler import CrawlerProcess\n",
    "from glob import glob\n",
    "import glob, os\n",
    "from ipywidgets import widgets\n",
    "from IPython.display import display, clear_output\n",
    "from tabulate import tabulate\n",
    "pd.set_option('display.max_colwidth', None)\n",
    "import warnings\n",
    "warnings.filterwarnings('ignore')"
   ]
  },
  {
   "cell_type": "code",
   "execution_count": 3,
   "metadata": {},
   "outputs": [],
   "source": [
    "CONST_USER_AGENT = 'Mozilla/4.0 (compatible; MSIE 7.0; Windows NT 5.1)'\n",
    "\n",
    "CONST_PRODUCT = 'Product'\n",
    "CONST_URL = 'Url'\n",
    "CONST_PLATFORM = 'Platform'\n",
    "\n",
    "CONST_MAX_PAGE_COUNT = 'Max_Page_Count'\n",
    "CONST_PRODUCT_NAME = 'Product_Name'\n",
    "CONST_PRODUCT_COST = 'Product_Cost'\n",
    "\n",
    "CONST_PRODUCT_BEVERAGES = 'Beverages'\n",
    "CONST_PRODUCT_BEVERAGES_TEA = 'Tea'\n",
    "CONST_PRODUCT_BEVERAGES_COFFEE = 'Coffee'\n",
    "CONST_PRODUCT_GROCERRIES = 'Grocery'\n",
    "CONST_PRODUCT_MASALA_AND_SPICES = 'Masala & Spices'\n",
    "\n",
    "CONST_PLATFORM_BIGBASKET = 'BigBasket'\n",
    "CONST_PLATFORM_DMART = 'Dmart'\n",
    "CONST_PLATFORM_AMAZON = 'Amazon'\n",
    "CONST_PLATFORM_FLIPKART = 'Flipkart'\n",
    "\n",
    "CONST_DF_FORMAT_CSV = '.csv'\n",
    "CONST_DF_FORMAT_JSON = '.json'\n",
    "\n",
    "CONST_NOT_APPLICABLE = 'N/A'"
   ]
  },
  {
   "cell_type": "markdown",
   "metadata": {},
   "source": [
    "<h2 align=\"center\" style=\"background-color:yellow;\">(A) DATA ACQUISITION</h2>\n",
    "<h3>Data Scrapped from the following platforms</h3>\n",
    "<ol style=\"font-style:italic; font-weight:normal\">\n",
    "  <li>Amazon</li>\n",
    "  <li>Big Basket</li>\n",
    "  <li>DMart</li>\n",
    "  <li>Flipkart</li>\n",
    "</ol>"
   ]
  },
  {
   "cell_type": "code",
   "execution_count": 4,
   "metadata": {},
   "outputs": [],
   "source": [
    "DF_Save_Format = CONST_DF_FORMAT_CSV\n",
    "class Base_Spider():\n",
    "    ''' This is the base class for all the custom data scrappers. '''\n",
    "    \n",
    "    def __init__():\n",
    "        ''' Base Constructor'''\n",
    "        \n",
    "    custom_settings = {\n",
    "        'LOG_LEVEL': logging.WARNING,\n",
    "        'FEED_FORMAT':'csv',\n",
    "    }\n",
    "        \n",
    "    def save(self, df, filename, domain):\n",
    "        path = 'outputs'\n",
    "        if not os.path.exists(path):\n",
    "            os.makedirs(path)\n",
    "        if DF_Save_Format == CONST_DF_FORMAT_CSV:\n",
    "            df.to_csv(path + '/' + domain + '_' + filename + CONST_DF_FORMAT_CSV)\n",
    "        elif DF_Save_Format == CONST_DF_FORMAT_JSON:\n",
    "            df.to_json(path + '/' + domain + '_' + filename + CONST_DF_FORMAT_JSON)"
   ]
  },
  {
   "cell_type": "code",
   "execution_count": 5,
   "metadata": {},
   "outputs": [],
   "source": [
    "class Amazon_Spider(scrapy.Spider, Base_Spider):\n",
    "    ''' Spider to crawl data from Amazon sites. '''\n",
    "    \n",
    "    name = 'amazon'\n",
    "    product = None\n",
    "    allowed_domains = ['amazon.in']    \n",
    "    url = None\n",
    "    max_page_count = 0\n",
    "    custom_settings = {\n",
    "        **Base_Spider.custom_settings,\n",
    "        'FEED_URI': 'outputs/amazonresult' + DF_Save_Format\n",
    "    }\n",
    "    \n",
    "    def __init__(self, product=None, url = None, max_page_count = None, *args, **kwargs):\n",
    "        super(Amazon_Spider, self).__init__(*args, **kwargs)\n",
    "        self.product = product\n",
    "        self.start_urls.append(url)        \n",
    "    \n",
    "    def parse(self, response):\n",
    "        if response.status == 200:            \n",
    "            for url in response.xpath('//ul[@id=\"zg_browseRoot\"]/ul/ul/li/a/@href').extract():\n",
    "                yield scrapy.Request(url = url, callback = self.parse_product, errback = self.errback_httpbin, dont_filter=True)            \n",
    "            \n",
    "    def parse_product(self, response): \n",
    "             \n",
    "        #Extract data using css selectors\n",
    "        for product in response.xpath('//ol[@id=\"zg-ordered-list\"]//li[@class=\"zg-item-immersion\"]').extract():\n",
    "            product_name = response.xpath('//li[@class=\"zg-item-immersion\"]//div[@class=\"a-section a-spacing-small\"]/img/@alt').extract()\n",
    "            product_price = response.xpath('//span[@class=\"p13n-sc-price\"]/text()').extract()         \n",
    "            product_rating = response.xpath('//div[@class=\"a-icon-row a-spacing-none\"]/a/@title').extract()\n",
    "            #product_category = response.xpath('//span[@class=\"category\"]/text()').extract()            \n",
    "        \n",
    "        #Making extracted data row wise\n",
    "        for item in zip(product_name,product_price,product_rating):\n",
    "            #create a dictionary to store the scraped info\n",
    "            scraped_info = {\n",
    "                #key:value\n",
    "                'product_name' : item[0], #item[0] means product in the list and so on, index tells what value to assign\n",
    "                'price' : item[1],\n",
    "                'rating' : item[2],\n",
    "                'category' : response.xpath('//span[@class=\"category\"]/text()').extract(),\n",
    "            }\n",
    "            yield scraped_info\n",
    "                              \n",
    "    def errback_httpbin(self, failure):\n",
    "        # log all failures\n",
    "        # in case you want to do something special for some errors,\n",
    "        # you may need the failure's type:\n",
    "\n",
    "        if failure.check(HttpError):\n",
    "            # these exceptions come from HttpError spider middleware\n",
    "            # you can get the non-200 response\n",
    "            response = failure.value.response\n",
    "            self.logger.error('HttpError on %s', response.url)"
   ]
  },
  {
   "cell_type": "code",
   "execution_count": 6,
   "metadata": {},
   "outputs": [],
   "source": [
    "class BigBasket_Spider(scrapy.Spider, Base_Spider):\n",
    "    ''' Spider to crawl data from BigBasket sites. '''\n",
    "    \n",
    "    name = 'bigbasket'\n",
    "    allowed_domains = ['bigbasket.com']\n",
    "    max_page_count = 0\n",
    "    custom_settings = {\n",
    "        'LOG_LEVEL': logging.WARNING,\n",
    "    }\n",
    "    \n",
    "    def __init__(self, product=None, url = None, max_page_count = None, *args, **kwargs):\n",
    "        super(BigBasket_Spider, self).__init__(*args, **kwargs)\n",
    "        self.product = product\n",
    "        if self.product == CONST_PRODUCT_BEVERAGES_TEA:\n",
    "            for i in range(2, int(max_page_count)):\n",
    "                self.start_urls.append(url[0:(url.rfind('page=')+5)] + str(i) + url[(url.rfind('page=')+6):])\n",
    "        elif self.product == CONST_PRODUCT_BEVERAGES_COFFEE:\n",
    "            for i in range(2, int(max_page_count)):\n",
    "                self.start_urls.append(url[0:(url.rfind('page=')+5)] + str(i) + url[(url.rfind('page=')+6):])\n",
    "            \n",
    "    def get_json(self, response):\n",
    "        if self.product == CONST_PRODUCT_BEVERAGES_TEA or self.product == CONST_PRODUCT_BEVERAGES_COFFEE:\n",
    "            return json.loads(response.body)['tab_info']['product_map']['all']['prods']\n",
    "    \n",
    "    def parse(self, response):\n",
    "        url = str(response.url)\n",
    "        data = self.get_json(response)\n",
    "        cols= ['p_desc', 'mrp', 'sp', 'dis_val', 'w','store_availability', 'rating_info']\n",
    "        df = pd.DataFrame(columns = cols)\n",
    "        for item in data:    \n",
    "            df = df.append(pd.Series({k: item[k]  if k != 'store_availability' else 'A' \\\n",
    "                  in [i['pstat'] for i in item[k]] if k != 'rating_info' else item['rating_info']['avg_rating'] for k in cols}), ignore_index = True)\n",
    "        df[['dis_val','mrp','sp']] = df[['dis_val','mrp','sp']].apply(pd.to_numeric)\n",
    "        df['dis_val'].fillna(0, inplace=True)\n",
    "        df['dis_val'] = (df['mrp']/100) * df['dis_val']\n",
    "        #display(df)\n",
    "        self.save(df, self.product + '_' + str(url[url.rfind('page=') + 5:url.rfind('&tab_type')]), BigBasket_Spider.name)"
   ]
  },
  {
   "cell_type": "code",
   "execution_count": 7,
   "metadata": {},
   "outputs": [],
   "source": [
    "class Dmart_Spider(scrapy.Spider, Base_Spider):\n",
    "    ''' Spider to crawl data from Dmart sites. '''\n",
    "    \n",
    "    name = 'dmart'\n",
    "    allowed_domains = ['dmart.in']\n",
    "    max_page_count = 0\n",
    "    custom_settings = {\n",
    "        'LOG_LEVEL': logging.WARNING,\n",
    "    }\n",
    "    \n",
    "    def __init__(self, product=None, url = None, max_page_count = None, *args, **kwargs):\n",
    "        super(Dmart_Spider, self).__init__(*args, **kwargs)\n",
    "        self.product = product\n",
    "        if self.product == CONST_PRODUCT_BEVERAGES or self.product == CONST_PRODUCT_GROCERRIES or self.product == CONST_PRODUCT_MASALA_AND_SPICES:\n",
    "            self.start_urls.append(url)\n",
    "            \n",
    "    def get_json(self, response):\n",
    "        if self.product == CONST_PRODUCT_BEVERAGES or self.product == CONST_PRODUCT_MASALA_AND_SPICES:\n",
    "            return json.loads(response.body)['products']['suggestionView']\n",
    "        elif self.product == CONST_PRODUCT_GROCERRIES:\n",
    "            return json.loads(response.body)['suggestionView']\n",
    "    \n",
    "    def parse(self, response):\n",
    "        data = self.get_json(response)\n",
    "        cols= ['name', 'price_MRP', 'price_SALE', 'save_price', 'defining','buyable']\n",
    "        df = pd.DataFrame(columns = cols)\n",
    "        for item in data:#\n",
    "            df = df.append(pd.Series({k: item['skus'][0].get(k)  for k in cols}), ignore_index = True)\n",
    "        #print('\\n---------------------------------' + self.product + '-------------------------------------------')\n",
    "        #display(df)\n",
    "        self.save(df, self.product, Dmart_Spider.name)"
   ]
  },
  {
   "cell_type": "code",
   "execution_count": 8,
   "metadata": {},
   "outputs": [],
   "source": [
    "class Flipkart_Spider(scrapy.Spider, Base_Spider):\n",
    "    ''' Spider to crawl data from Flipkart sites. '''\n",
    "    \n",
    "    name = 'flipkart'\n",
    "    allowed_domains = ['flipkart.in']\n",
    "    max_page_count = 0\n",
    "    \n",
    "    custom_settings = {\n",
    "        **Base_Spider.custom_settings,\n",
    "        'FEED_URI': 'outputs/flipkartresult' + DF_Save_Format\n",
    "    }\n",
    "    \n",
    "    def __init__(self, product=None, url = None, max_page_count = None, *args, **kwargs):\n",
    "        super(Flipkart_Spider, self).__init__(*args, **kwargs)\n",
    "        self.product = product\n",
    "        self.start_urls = [\n",
    "            'https://www.flipkart.com/search?q=beverages%20in%20tea&otracker=search&otracker1=search&marketplace=FLIPKART&as-show=on&as=off',\n",
    "            'https://www.flipkart.com/search?q=tea&otracker=search&otracker1=search&marketplace=FLIPKART&as-show=on&as=off&page=2',\n",
    "            'https://www.flipkart.com/search?q=tea&otracker=search&otracker1=search&marketplace=FLIPKART&as-show=on&as=off&page=3',\n",
    "            'https://www.flipkart.com/search?q=coffee&otracker=search&otracker1=search&marketplace=FLIPKART&as-show=on&as=off',\n",
    "            'https://www.flipkart.com/search?q=coffee&otracker=search&otracker1=search&marketplace=FLIPKART&as-show=on&as=off&page=2',\n",
    "            'https://www.flipkart.com/search?q=coffee&otracker=search&otracker1=search&marketplace=FLIPKART&as-show=on&as=off&page=3',\n",
    "            'https://www.flipkart.com/search?q=spices&as=on&as-show=on&otracker=AS_Query_OrganicAutoSuggest_4_4_na_na_na&otracker1=AS_Query_OrganicAutoSuggest_4_4_na_na_na&as-pos=4&as-type=RECENT&suggestionId=spices&requestId=94f8bdaf-8357-487a-a68b-e909565784e7&as-searchtext=s%5Bpic',\n",
    "            'https://www.flipkart.com/search?q=spices&as=on&as-show=on&otracker=AS_Query_OrganicAutoSuggest_4_4_na_na_na&otracker1=AS_Query_OrganicAutoSuggest_4_4_na_na_na&as-pos=4&as-type=RECENT&suggestionId=spices&requestId=94f8bdaf-8357-487a-a68b-e909565784e7&as-searchtext=s%5Bpic&page=2',\n",
    "            'https://www.flipkart.com/search?q=spices&as=on&as-show=on&otracker=AS_Query_OrganicAutoSuggest_4_4_na_na_na&otracker1=AS_Query_OrganicAutoSuggest_4_4_na_na_na&as-pos=4&as-type=RECENT&suggestionId=spices&requestId=94f8bdaf-8357-487a-a68b-e909565784e7&as-searchtext=s%5Bpic&page=3',\n",
    "            'https://www.flipkart.com/search?q=grocery&sid=7jv%2Cp3n%2C0ed&as=on&as-show=on&otracker=AS_QueryStore_OrganicAutoSuggest_2_8_na_na_ps&otracker1=AS_QueryStore_OrganicAutoSuggest_2_8_na_na_ps&as-pos=2&as-type=RECENT&suggestionId=grocery%7CDals+%26+Pulses&requestId=749df6fb-1916-45df-a5f6-e2445a67b7ce&as-searchtext=grocery%20',\n",
    "            'https://www.flipkart.com/search?q=grocery&sid=7jv%2Cp3n%2C0ed&as=on&as-show=on&otracker=AS_QueryStore_OrganicAutoSuggest_2_8_na_na_ps&otracker1=AS_QueryStore_OrganicAutoSuggest_2_8_na_na_ps&as-pos=2&as-type=RECENT&suggestionId=grocery%7CDals+%26+Pulses&requestId=749df6fb-1916-45df-a5f6-e2445a67b7ce&as-searchtext=grocery+&page=2',\n",
    "            'https://www.flipkart.com/search?q=grocery+1+rs+offer+all&sid=7jv%2C72u%2Cd6s&as=on&as-show=on&otracker=AS_QueryStore_OrganicAutoSuggest_6_7_na_na_ps&otracker1=AS_QueryStore_OrganicAutoSuggest_6_7_na_na_ps&as-pos=6&as-type=RECENT&suggestionId=grocery+1+rs+offer+all%7CEdible+Oils&requestId=c19eb0d1-779c-4ae6-9b5a-3f156db29852&as-searchtext=grocery',\n",
    "            'https://www.flipkart.com/search?q=grocery&sid=7jv%2C30b%2Cpne&as=on&as-show=on&otracker=AS_QueryStore_OrganicAutoSuggest_4_7_na_na_ps&otracker1=AS_QueryStore_OrganicAutoSuggest_4_7_na_na_ps&as-pos=4&as-type=RECENT&suggestionId=grocery%7CNuts+%26+Dry+Fruits&requestId=06270ce4-4dc6-4669-9a72-ce708331f98b&as-searchtext=grocery',\n",
    "        ]\n",
    "    \n",
    "    def parse(self, response):\n",
    "        for p in response.css('div._3liAhj'):\n",
    "            yield {\n",
    "                'Category': response.css('span._2yAnYN span::text').extract_first(),\n",
    "                'itemname': p.css('a._2cLu-l::text').extract_first(),\n",
    "                'price(₹)': p.css('a._1Vfi6u div._1uv9Cb div._1vC4OE::text').extract_first()[1:],\n",
    "                'MRP(₹)' : p.css('a._1Vfi6u div._1uv9Cb div._3auQ3N::text').extract(),\n",
    "                'discount': p.css('a._1Vfi6u div._1uv9Cb div.VGWI6T span::text').extract_first(),\n",
    "                'rating': p.css('div.hGSR34::text').extract_first(),\n",
    "                'itemsdeliverable' : p.css('span._1GJ2ZM::text').extract()\n",
    "            }"
   ]
  },
  {
   "cell_type": "code",
   "execution_count": 9,
   "metadata": {},
   "outputs": [],
   "source": [
    "process = CrawlerProcess({\n",
    "    #'USER_AGENT': CONST_USER_AGENT,\n",
    "    'LOG_ENABLED' : False\n",
    "})\n",
    "products = [\n",
    "    {\n",
    "        CONST_PLATFORM : CONST_PLATFORM_BIGBASKET,\n",
    "        CONST_PRODUCT: CONST_PRODUCT_BEVERAGES_TEA,\n",
    "        CONST_URL : 'https://www.bigbasket.com/product/get-products/?slug=tea&page=1&tab_type=[%22all%22]&sorted_on=relevance&listtype=ps',\n",
    "        CONST_MAX_PAGE_COUNT:'10'\n",
    "    },\n",
    "    {\n",
    "        CONST_PLATFORM : CONST_PLATFORM_BIGBASKET,\n",
    "        CONST_PRODUCT: CONST_PRODUCT_BEVERAGES_COFFEE,\n",
    "        CONST_URL : 'https://www.bigbasket.com/product/get-products/?slug=coffee&page=1&tab_type=[%22all%22]&sorted_on=relevance&listtype=ps',\n",
    "        CONST_MAX_PAGE_COUNT:'10'\n",
    "    },\n",
    "    {\n",
    "        CONST_PLATFORM : CONST_PLATFORM_AMAZON,\n",
    "        CONST_PRODUCT: CONST_PRODUCT_BEVERAGES_TEA,\n",
    "        CONST_URL: 'https://www.amazon.in/gp/bestsellers/grocery/ref=zg_bs_nav_0',\n",
    "        CONST_MAX_PAGE_COUNT:'1'\n",
    "    },\n",
    "    {\n",
    "        CONST_PLATFORM : CONST_PLATFORM_DMART,\n",
    "        CONST_PRODUCT : CONST_PRODUCT_BEVERAGES,\n",
    "        CONST_URL : 'https://digital.dmart.in/api/v1/clp/15504?page=1&size=1000',\n",
    "        CONST_MAX_PAGE_COUNT : '1'\n",
    "    },\n",
    "    {\n",
    "        CONST_PLATFORM : CONST_PLATFORM_DMART,\n",
    "        CONST_PRODUCT : CONST_PRODUCT_GROCERRIES,\n",
    "        CONST_URL : 'https://digital.dmart.in/api/v1/search/grocery?page=1&size=1000',\n",
    "        CONST_MAX_PAGE_COUNT : '1'\n",
    "    },\n",
    "    {\n",
    "        CONST_PLATFORM : CONST_PLATFORM_DMART,\n",
    "        CONST_PRODUCT : CONST_PRODUCT_MASALA_AND_SPICES,\n",
    "        CONST_URL : 'https://digital.dmart.in/api/v1/clp/15578?page=1&size=1000',\n",
    "        CONST_MAX_PAGE_COUNT : '1'\n",
    "    },\n",
    "    {\n",
    "        CONST_PLATFORM : CONST_PLATFORM_FLIPKART,\n",
    "        CONST_PRODUCT : None,\n",
    "        CONST_URL : None,\n",
    "        CONST_MAX_PAGE_COUNT : '1'\n",
    "    },\n",
    "]\n",
    "for item in products:\n",
    "    \n",
    "    if item[CONST_PLATFORM] == CONST_PLATFORM_DMART:\n",
    "        process.crawl(Dmart_Spider, item[CONST_PRODUCT], item[CONST_URL], item[CONST_MAX_PAGE_COUNT])\n",
    "        #continue\n",
    "    elif item[CONST_PLATFORM] == CONST_PLATFORM_AMAZON:\n",
    "        process.crawl(Amazon_Spider, item[CONST_PRODUCT], item[CONST_URL], item[CONST_MAX_PAGE_COUNT])\n",
    "        #continue\n",
    "    elif item[CONST_PLATFORM] == CONST_PLATFORM_BIGBASKET:\n",
    "        process.crawl(BigBasket_Spider, item[CONST_PRODUCT], item[CONST_URL], item[CONST_MAX_PAGE_COUNT])\n",
    "        #continue\n",
    "    elif item[CONST_PLATFORM] == CONST_PLATFORM_FLIPKART:\n",
    "        process.crawl(Flipkart_Spider, item[CONST_PRODUCT], item[CONST_URL], item[CONST_MAX_PAGE_COUNT])\n",
    "        #continue\n",
    "process.start()"
   ]
  },
  {
   "cell_type": "markdown",
   "metadata": {},
   "source": [
    "<h2 align=\"center\" style=\"background-color:yellow;\">(B) DATA CLEANING</h2>"
   ]
  },
  {
   "cell_type": "code",
   "execution_count": 10,
   "metadata": {},
   "outputs": [
    {
     "data": {
      "text/html": [
       "<div>\n",
       "<style scoped>\n",
       "    .dataframe tbody tr th:only-of-type {\n",
       "        vertical-align: middle;\n",
       "    }\n",
       "\n",
       "    .dataframe tbody tr th {\n",
       "        vertical-align: top;\n",
       "    }\n",
       "\n",
       "    .dataframe thead th {\n",
       "        text-align: right;\n",
       "    }\n",
       "</style>\n",
       "<table border=\"1\" class=\"dataframe\">\n",
       "  <thead>\n",
       "    <tr style=\"text-align: right;\">\n",
       "      <th></th>\n",
       "      <th>product_name</th>\n",
       "      <th>price</th>\n",
       "      <th>rating</th>\n",
       "      <th>category</th>\n",
       "    </tr>\n",
       "  </thead>\n",
       "  <tbody>\n",
       "    <tr>\n",
       "      <th>0</th>\n",
       "      <td>Henfruit Farm White Eggs, 30 Pcs</td>\n",
       "      <td>₹ 160.00</td>\n",
       "      <td>3.8 out of 5 stars</td>\n",
       "      <td>Meat, Poultry &amp; Seafood</td>\n",
       "    </tr>\n",
       "    <tr>\n",
       "      <th>1</th>\n",
       "      <td>Fresh Eggs - 30 Piece</td>\n",
       "      <td>₹ 185.00</td>\n",
       "      <td>3.0 out of 5 stars</td>\n",
       "      <td>Meat, Poultry &amp; Seafood</td>\n",
       "    </tr>\n",
       "    <tr>\n",
       "      <th>2</th>\n",
       "      <td>Fresh Eggs - 12 Piece</td>\n",
       "      <td>₹ 649.00</td>\n",
       "      <td>3.5 out of 5 stars</td>\n",
       "      <td>Meat, Poultry &amp; Seafood</td>\n",
       "    </tr>\n",
       "    <tr>\n",
       "      <th>3</th>\n",
       "      <td>Prabhat Fresh Eggs Pack of 12</td>\n",
       "      <td>₹ 140.00</td>\n",
       "      <td>3.9 out of 5 stars</td>\n",
       "      <td>Meat, Poultry &amp; Seafood</td>\n",
       "    </tr>\n",
       "    <tr>\n",
       "      <th>4</th>\n",
       "      <td>Prabhat Fresh Eggs Pack of 30</td>\n",
       "      <td>₹ 180.00</td>\n",
       "      <td>3.5 out of 5 stars</td>\n",
       "      <td>Meat, Poultry &amp; Seafood</td>\n",
       "    </tr>\n",
       "  </tbody>\n",
       "</table>\n",
       "</div>"
      ],
      "text/plain": [
       "                       product_name     price              rating  \\\n",
       "0  Henfruit Farm White Eggs, 30 Pcs  ₹ 160.00  3.8 out of 5 stars   \n",
       "1             Fresh Eggs - 30 Piece  ₹ 185.00  3.0 out of 5 stars   \n",
       "2             Fresh Eggs - 12 Piece  ₹ 649.00  3.5 out of 5 stars   \n",
       "3     Prabhat Fresh Eggs Pack of 12  ₹ 140.00  3.9 out of 5 stars   \n",
       "4     Prabhat Fresh Eggs Pack of 30  ₹ 180.00  3.5 out of 5 stars   \n",
       "\n",
       "                  category  \n",
       "0  Meat, Poultry & Seafood  \n",
       "1  Meat, Poultry & Seafood  \n",
       "2  Meat, Poultry & Seafood  \n",
       "3  Meat, Poultry & Seafood  \n",
       "4  Meat, Poultry & Seafood  "
      ]
     },
     "execution_count": 10,
     "metadata": {},
     "output_type": "execute_result"
    }
   ],
   "source": [
    "df_amazon = pd.concat(map(pd.read_csv, glob.glob(os.path.join('', \"outputs/amazon*.csv\"))))\n",
    "df_amazon.head()"
   ]
  },
  {
   "cell_type": "code",
   "execution_count": 11,
   "metadata": {},
   "outputs": [],
   "source": [
    "# df_amazon[df_amazon.duplicated(['product_name'])]\n",
    "df_amazon.drop_duplicates(subset =\"product_name\", keep = 'first', inplace = True) "
   ]
  },
  {
   "cell_type": "code",
   "execution_count": 12,
   "metadata": {},
   "outputs": [
    {
     "data": {
      "text/html": [
       "<div>\n",
       "<style scoped>\n",
       "    .dataframe tbody tr th:only-of-type {\n",
       "        vertical-align: middle;\n",
       "    }\n",
       "\n",
       "    .dataframe tbody tr th {\n",
       "        vertical-align: top;\n",
       "    }\n",
       "\n",
       "    .dataframe thead th {\n",
       "        text-align: right;\n",
       "    }\n",
       "</style>\n",
       "<table border=\"1\" class=\"dataframe\">\n",
       "  <thead>\n",
       "    <tr style=\"text-align: right;\">\n",
       "      <th></th>\n",
       "      <th>product_name</th>\n",
       "      <th>price</th>\n",
       "      <th>rating</th>\n",
       "      <th>category</th>\n",
       "    </tr>\n",
       "  </thead>\n",
       "  <tbody>\n",
       "    <tr>\n",
       "      <th>649</th>\n",
       "      <td>product_name</td>\n",
       "      <td>price</td>\n",
       "      <td>rating</td>\n",
       "      <td>category</td>\n",
       "    </tr>\n",
       "  </tbody>\n",
       "</table>\n",
       "</div>"
      ],
      "text/plain": [
       "     product_name  price  rating  category\n",
       "649  product_name  price  rating  category"
      ]
     },
     "execution_count": 12,
     "metadata": {},
     "output_type": "execute_result"
    }
   ],
   "source": [
    "df_amazon[df_amazon['product_name'] == 'product_name'].head()"
   ]
  },
  {
   "cell_type": "code",
   "execution_count": 13,
   "metadata": {},
   "outputs": [
    {
     "data": {
      "text/plain": [
       "(1, 4)"
      ]
     },
     "execution_count": 13,
     "metadata": {},
     "output_type": "execute_result"
    }
   ],
   "source": [
    "df_amazon[df_amazon['product_name'] == 'product_name'].shape"
   ]
  },
  {
   "cell_type": "code",
   "execution_count": 14,
   "metadata": {},
   "outputs": [],
   "source": [
    "df_amazon.drop(df_amazon[df_amazon['product_name'] == 'product_name'].index, inplace = True)"
   ]
  },
  {
   "cell_type": "code",
   "execution_count": 15,
   "metadata": {},
   "outputs": [
    {
     "data": {
      "text/plain": [
       "array(['3.8 out of 5 stars', '3.0 out of 5 stars', '3.5 out of 5 stars',\n",
       "       '3.9 out of 5 stars', '4.0 out of 5 stars', '4.2 out of 5 stars',\n",
       "       '3.6 out of 5 stars', '4.1 out of 5 stars', '4.4 out of 5 stars',\n",
       "       '4.5 out of 5 stars', '3.7 out of 5 stars', '4.3 out of 5 stars',\n",
       "       '2.7 out of 5 stars', '1.0 out of 5 stars', '2.5 out of 5 stars',\n",
       "       '4.6 out of 5 stars', '4.8 out of 5 stars', '2.9 out of 5 stars',\n",
       "       '3.3 out of 5 stars', '3.2 out of 5 stars', '2.3 out of 5 stars',\n",
       "       '1.3 out of 5 stars', '4.7 out of 5 stars', '5.0 out of 5 stars',\n",
       "       '3.1 out of 5 stars', '3.4 out of 5 stars', '2.4 out of 5 stars',\n",
       "       '2.8 out of 5 stars', '2.6 out of 5 stars', '2.2 out of 5 stars',\n",
       "       '2.0 out of 5 stars', '4', '.', '3', ' ', 'o', 'u', 't', '0'],\n",
       "      dtype=object)"
      ]
     },
     "execution_count": 15,
     "metadata": {},
     "output_type": "execute_result"
    }
   ],
   "source": [
    "df_amazon['rating'].unique()"
   ]
  },
  {
   "cell_type": "code",
   "execution_count": 16,
   "metadata": {},
   "outputs": [],
   "source": [
    "exclude = [' ', '.','o', 'u', 't' ]\n",
    "df_amazon.drop(df_amazon[df_amazon['rating'].isin(exclude)].index, inplace = True)"
   ]
  },
  {
   "cell_type": "code",
   "execution_count": 17,
   "metadata": {},
   "outputs": [],
   "source": [
    "df_amazon['rating'] = df_amazon.apply(lambda x: x.rating[0:3] ,axis=1)"
   ]
  },
  {
   "cell_type": "code",
   "execution_count": 18,
   "metadata": {},
   "outputs": [],
   "source": [
    "df_amazon['price'] = df_amazon['price'].replace('₹', '', regex=True).replace(',', '', regex=True)"
   ]
  },
  {
   "cell_type": "code",
   "execution_count": 19,
   "metadata": {},
   "outputs": [],
   "source": [
    "df_amazon['price'] = df_amazon['price'].replace('\\xa0', '', regex=True)"
   ]
  },
  {
   "cell_type": "code",
   "execution_count": 20,
   "metadata": {},
   "outputs": [],
   "source": [
    "df_amazon['price'] = df_amazon['price'].str.strip()"
   ]
  },
  {
   "cell_type": "code",
   "execution_count": 21,
   "metadata": {},
   "outputs": [],
   "source": [
    "df_amazon.drop(df_amazon[df_amazon['price'] == ''].index, inplace = True)"
   ]
  },
  {
   "cell_type": "code",
   "execution_count": 22,
   "metadata": {},
   "outputs": [
    {
     "data": {
      "text/plain": [
       "product_name    object\n",
       "price           object\n",
       "rating          object\n",
       "category        object\n",
       "dtype: object"
      ]
     },
     "execution_count": 22,
     "metadata": {},
     "output_type": "execute_result"
    }
   ],
   "source": [
    "df_amazon.dtypes"
   ]
  },
  {
   "cell_type": "code",
   "execution_count": 23,
   "metadata": {},
   "outputs": [
    {
     "data": {
      "text/plain": [
       "array(['3.8', '3.0', '3.5', '3.9', '4.0', '4.2', '3.6', '4.1', '4.4',\n",
       "       '4.5', '3.7', '4.3', '2.7', '1.0', '2.5', '4.6', '4.8', '2.9',\n",
       "       '3.3', '3.2', '2.3', '1.3', '4.7', '5.0', '3.1', '3.4', '2.4',\n",
       "       '2.8', '2.6', '2.2', '2.0', '3', '0', '4'], dtype=object)"
      ]
     },
     "execution_count": 23,
     "metadata": {},
     "output_type": "execute_result"
    }
   ],
   "source": [
    "df_amazon['rating'].unique()"
   ]
  },
  {
   "cell_type": "code",
   "execution_count": 24,
   "metadata": {},
   "outputs": [],
   "source": [
    "df_amazon[['rating', 'price']] = df_amazon[['rating', 'price']].astype(np.float)"
   ]
  },
  {
   "cell_type": "code",
   "execution_count": 25,
   "metadata": {},
   "outputs": [],
   "source": [
    "df_amazon['SpecialPrice']  = df_amazon['price']\n",
    "df_amazon['Discount']  = 0.0"
   ]
  },
  {
   "cell_type": "code",
   "execution_count": 26,
   "metadata": {},
   "outputs": [],
   "source": [
    "df_amazon['IsAvailable']  = True"
   ]
  },
  {
   "cell_type": "code",
   "execution_count": 27,
   "metadata": {},
   "outputs": [],
   "source": [
    "df_amazon['Platform']  = CONST_PLATFORM_AMAZON"
   ]
  },
  {
   "cell_type": "code",
   "execution_count": 28,
   "metadata": {},
   "outputs": [
    {
     "data": {
      "text/plain": [
       "Index(['product_name', 'price', 'rating', 'category', 'SpecialPrice',\n",
       "       'Discount', 'IsAvailable', 'Platform'],\n",
       "      dtype='object')"
      ]
     },
     "execution_count": 28,
     "metadata": {},
     "output_type": "execute_result"
    }
   ],
   "source": [
    "df_amazon.columns"
   ]
  },
  {
   "cell_type": "code",
   "execution_count": 29,
   "metadata": {},
   "outputs": [],
   "source": [
    "df_amazon.columns = ['ProductName', 'ActualPrice', 'Rating', 'Category', 'SpecialPrice', 'Discount','IsAvailable', 'Platform']"
   ]
  },
  {
   "cell_type": "code",
   "execution_count": 30,
   "metadata": {},
   "outputs": [
    {
     "data": {
      "text/plain": [
       "ProductName      object\n",
       "ActualPrice     float64\n",
       "Rating          float64\n",
       "Category         object\n",
       "SpecialPrice    float64\n",
       "Discount        float64\n",
       "IsAvailable        bool\n",
       "Platform         object\n",
       "dtype: object"
      ]
     },
     "execution_count": 30,
     "metadata": {},
     "output_type": "execute_result"
    }
   ],
   "source": [
    "df_amazon.dtypes"
   ]
  },
  {
   "cell_type": "code",
   "execution_count": 31,
   "metadata": {},
   "outputs": [
    {
     "data": {
      "text/html": [
       "<div>\n",
       "<style scoped>\n",
       "    .dataframe tbody tr th:only-of-type {\n",
       "        vertical-align: middle;\n",
       "    }\n",
       "\n",
       "    .dataframe tbody tr th {\n",
       "        vertical-align: top;\n",
       "    }\n",
       "\n",
       "    .dataframe thead th {\n",
       "        text-align: right;\n",
       "    }\n",
       "</style>\n",
       "<table border=\"1\" class=\"dataframe\">\n",
       "  <thead>\n",
       "    <tr style=\"text-align: right;\">\n",
       "      <th></th>\n",
       "      <th>ProductName</th>\n",
       "      <th>ActualPrice</th>\n",
       "      <th>Rating</th>\n",
       "      <th>Category</th>\n",
       "      <th>SpecialPrice</th>\n",
       "      <th>Discount</th>\n",
       "      <th>IsAvailable</th>\n",
       "      <th>Platform</th>\n",
       "    </tr>\n",
       "  </thead>\n",
       "  <tbody>\n",
       "    <tr>\n",
       "      <th>0</th>\n",
       "      <td>Henfruit Farm White Eggs, 30 Pcs</td>\n",
       "      <td>160.0</td>\n",
       "      <td>3.8</td>\n",
       "      <td>Meat, Poultry &amp; Seafood</td>\n",
       "      <td>160.0</td>\n",
       "      <td>0.0</td>\n",
       "      <td>True</td>\n",
       "      <td>Amazon</td>\n",
       "    </tr>\n",
       "    <tr>\n",
       "      <th>1</th>\n",
       "      <td>Fresh Eggs - 30 Piece</td>\n",
       "      <td>185.0</td>\n",
       "      <td>3.0</td>\n",
       "      <td>Meat, Poultry &amp; Seafood</td>\n",
       "      <td>185.0</td>\n",
       "      <td>0.0</td>\n",
       "      <td>True</td>\n",
       "      <td>Amazon</td>\n",
       "    </tr>\n",
       "    <tr>\n",
       "      <th>2</th>\n",
       "      <td>Fresh Eggs - 12 Piece</td>\n",
       "      <td>649.0</td>\n",
       "      <td>3.5</td>\n",
       "      <td>Meat, Poultry &amp; Seafood</td>\n",
       "      <td>649.0</td>\n",
       "      <td>0.0</td>\n",
       "      <td>True</td>\n",
       "      <td>Amazon</td>\n",
       "    </tr>\n",
       "    <tr>\n",
       "      <th>3</th>\n",
       "      <td>Prabhat Fresh Eggs Pack of 12</td>\n",
       "      <td>140.0</td>\n",
       "      <td>3.9</td>\n",
       "      <td>Meat, Poultry &amp; Seafood</td>\n",
       "      <td>140.0</td>\n",
       "      <td>0.0</td>\n",
       "      <td>True</td>\n",
       "      <td>Amazon</td>\n",
       "    </tr>\n",
       "    <tr>\n",
       "      <th>4</th>\n",
       "      <td>Prabhat Fresh Eggs Pack of 30</td>\n",
       "      <td>180.0</td>\n",
       "      <td>3.5</td>\n",
       "      <td>Meat, Poultry &amp; Seafood</td>\n",
       "      <td>180.0</td>\n",
       "      <td>0.0</td>\n",
       "      <td>True</td>\n",
       "      <td>Amazon</td>\n",
       "    </tr>\n",
       "  </tbody>\n",
       "</table>\n",
       "</div>"
      ],
      "text/plain": [
       "                        ProductName  ActualPrice  Rating  \\\n",
       "0  Henfruit Farm White Eggs, 30 Pcs        160.0     3.8   \n",
       "1             Fresh Eggs - 30 Piece        185.0     3.0   \n",
       "2             Fresh Eggs - 12 Piece        649.0     3.5   \n",
       "3     Prabhat Fresh Eggs Pack of 12        140.0     3.9   \n",
       "4     Prabhat Fresh Eggs Pack of 30        180.0     3.5   \n",
       "\n",
       "                  Category  SpecialPrice  Discount  IsAvailable Platform  \n",
       "0  Meat, Poultry & Seafood         160.0       0.0         True   Amazon  \n",
       "1  Meat, Poultry & Seafood         185.0       0.0         True   Amazon  \n",
       "2  Meat, Poultry & Seafood         649.0       0.0         True   Amazon  \n",
       "3  Meat, Poultry & Seafood         140.0       0.0         True   Amazon  \n",
       "4  Meat, Poultry & Seafood         180.0       0.0         True   Amazon  "
      ]
     },
     "execution_count": 31,
     "metadata": {},
     "output_type": "execute_result"
    }
   ],
   "source": [
    "df_amazon.head()"
   ]
  },
  {
   "cell_type": "code",
   "execution_count": 32,
   "metadata": {},
   "outputs": [
    {
     "data": {
      "text/plain": [
       "ProductName     False\n",
       "ActualPrice     False\n",
       "Rating          False\n",
       "Category        False\n",
       "SpecialPrice    False\n",
       "Discount        False\n",
       "IsAvailable     False\n",
       "Platform        False\n",
       "dtype: bool"
      ]
     },
     "execution_count": 32,
     "metadata": {},
     "output_type": "execute_result"
    }
   ],
   "source": [
    "df_amazon.isna().any()"
   ]
  },
  {
   "cell_type": "code",
   "execution_count": 33,
   "metadata": {},
   "outputs": [
    {
     "data": {
      "text/html": [
       "<div>\n",
       "<style scoped>\n",
       "    .dataframe tbody tr th:only-of-type {\n",
       "        vertical-align: middle;\n",
       "    }\n",
       "\n",
       "    .dataframe tbody tr th {\n",
       "        vertical-align: top;\n",
       "    }\n",
       "\n",
       "    .dataframe thead th {\n",
       "        text-align: right;\n",
       "    }\n",
       "</style>\n",
       "<table border=\"1\" class=\"dataframe\">\n",
       "  <thead>\n",
       "    <tr style=\"text-align: right;\">\n",
       "      <th></th>\n",
       "      <th>Unnamed: 0</th>\n",
       "      <th>p_desc</th>\n",
       "      <th>mrp</th>\n",
       "      <th>sp</th>\n",
       "      <th>dis_val</th>\n",
       "      <th>w</th>\n",
       "      <th>store_availability</th>\n",
       "      <th>rating_info</th>\n",
       "    </tr>\n",
       "  </thead>\n",
       "  <tbody>\n",
       "    <tr>\n",
       "      <th>0</th>\n",
       "      <td>0</td>\n",
       "      <td>Nilgiri Green Tea - Seiki Peppermint</td>\n",
       "      <td>550.0</td>\n",
       "      <td>550.0</td>\n",
       "      <td>0.0</td>\n",
       "      <td>125 g</td>\n",
       "      <td>True</td>\n",
       "      <td>{'sku_id': 40187583}</td>\n",
       "    </tr>\n",
       "    <tr>\n",
       "      <th>1</th>\n",
       "      <td>1</td>\n",
       "      <td>Nilgiri Green Tea - Taido Ginger</td>\n",
       "      <td>750.0</td>\n",
       "      <td>750.0</td>\n",
       "      <td>0.0</td>\n",
       "      <td>100 g</td>\n",
       "      <td>True</td>\n",
       "      <td>{'sku_id': 40187598}</td>\n",
       "    </tr>\n",
       "    <tr>\n",
       "      <th>2</th>\n",
       "      <td>2</td>\n",
       "      <td>Nilgiri Green Tea - Yakuso Tulsi</td>\n",
       "      <td>550.0</td>\n",
       "      <td>550.0</td>\n",
       "      <td>0.0</td>\n",
       "      <td>125 g</td>\n",
       "      <td>True</td>\n",
       "      <td>{'sku_id': 40187578}</td>\n",
       "    </tr>\n",
       "    <tr>\n",
       "      <th>3</th>\n",
       "      <td>3</td>\n",
       "      <td>Nilgiri Green Tea - Taizen Cinnamon</td>\n",
       "      <td>550.0</td>\n",
       "      <td>550.0</td>\n",
       "      <td>0.0</td>\n",
       "      <td>125 g</td>\n",
       "      <td>True</td>\n",
       "      <td>{'sku_id': 40187580}</td>\n",
       "    </tr>\n",
       "    <tr>\n",
       "      <th>4</th>\n",
       "      <td>4</td>\n",
       "      <td>Nilgiris Green Tea - Yoshin Lemon</td>\n",
       "      <td>550.0</td>\n",
       "      <td>550.0</td>\n",
       "      <td>0.0</td>\n",
       "      <td>125 g</td>\n",
       "      <td>True</td>\n",
       "      <td>{'sku_id': 40187582}</td>\n",
       "    </tr>\n",
       "  </tbody>\n",
       "</table>\n",
       "</div>"
      ],
      "text/plain": [
       "   Unnamed: 0                                p_desc    mrp     sp  dis_val  \\\n",
       "0           0  Nilgiri Green Tea - Seiki Peppermint  550.0  550.0      0.0   \n",
       "1           1      Nilgiri Green Tea - Taido Ginger  750.0  750.0      0.0   \n",
       "2           2      Nilgiri Green Tea - Yakuso Tulsi  550.0  550.0      0.0   \n",
       "3           3   Nilgiri Green Tea - Taizen Cinnamon  550.0  550.0      0.0   \n",
       "4           4     Nilgiris Green Tea - Yoshin Lemon  550.0  550.0      0.0   \n",
       "\n",
       "       w  store_availability           rating_info  \n",
       "0  125 g                True  {'sku_id': 40187583}  \n",
       "1  100 g                True  {'sku_id': 40187598}  \n",
       "2  125 g                True  {'sku_id': 40187578}  \n",
       "3  125 g                True  {'sku_id': 40187580}  \n",
       "4  125 g                True  {'sku_id': 40187582}  "
      ]
     },
     "execution_count": 33,
     "metadata": {},
     "output_type": "execute_result"
    }
   ],
   "source": [
    "df_bigbasket = pd.concat(map(pd.read_csv, glob.glob(os.path.join('', \"outputs/bigbasket*.csv\"))))\n",
    "df_bigbasket.head()"
   ]
  },
  {
   "cell_type": "code",
   "execution_count": 34,
   "metadata": {},
   "outputs": [
    {
     "data": {
      "text/plain": [
       "(320, 8)"
      ]
     },
     "execution_count": 34,
     "metadata": {},
     "output_type": "execute_result"
    }
   ],
   "source": [
    "df_bigbasket.shape"
   ]
  },
  {
   "cell_type": "code",
   "execution_count": 35,
   "metadata": {},
   "outputs": [],
   "source": [
    "df_bigbasket.drop('Unnamed: 0', axis=1,inplace=True)"
   ]
  },
  {
   "cell_type": "code",
   "execution_count": 36,
   "metadata": {},
   "outputs": [],
   "source": [
    "df_bigbasket.drop('w', axis=1,inplace=True)"
   ]
  },
  {
   "cell_type": "code",
   "execution_count": 37,
   "metadata": {},
   "outputs": [],
   "source": [
    "df_bigbasket['rating_info'].fillna(CONST_NOT_APPLICABLE, inplace = True)"
   ]
  },
  {
   "cell_type": "code",
   "execution_count": 38,
   "metadata": {},
   "outputs": [],
   "source": [
    "def get_bigbasket_ratings(x):\n",
    "    if 'avg_rating' in x:\n",
    "        rating_index = x.rfind('avg_rating')\n",
    "        l = len('avg_rating')\n",
    "        m = x[(rating_index+l):].find(',')\n",
    "        n = x[(rating_index+l) : (rating_index+l + m)].split(':')\n",
    "        if len(n) > 1:\n",
    "            return n[1]\n",
    "        else:\n",
    "            return n[0]\n",
    "    else:\n",
    "        return CONST_NOT_APPLICABLE"
   ]
  },
  {
   "cell_type": "code",
   "execution_count": 39,
   "metadata": {},
   "outputs": [],
   "source": [
    "df_bigbasket['rating_info'] = df_bigbasket.apply(lambda x: get_bigbasket_ratings(x.rating_info), axis=1)"
   ]
  },
  {
   "cell_type": "code",
   "execution_count": 40,
   "metadata": {},
   "outputs": [
    {
     "data": {
      "text/plain": [
       "array(['N/A', ' 1', ' 5', ' 3', ' 4.1', ' 4.2', ' 4.4', ' 4.3', ' 3.5',\n",
       "       ' 3.2', ' 2.5', ' 4.6', ' 4.7', ' 4.8', ' 4', ' 4.5', ' 3.7',\n",
       "       ' 3.6', ' 3.9'], dtype=object)"
      ]
     },
     "execution_count": 40,
     "metadata": {},
     "output_type": "execute_result"
    }
   ],
   "source": [
    "df_bigbasket['rating_info'].unique()"
   ]
  },
  {
   "cell_type": "code",
   "execution_count": 41,
   "metadata": {},
   "outputs": [],
   "source": [
    "df_bigbasket['Category'] = CONST_PRODUCT_BEVERAGES\n",
    "df_bigbasket['Platform']  = CONST_PLATFORM_BIGBASKET"
   ]
  },
  {
   "cell_type": "code",
   "execution_count": 42,
   "metadata": {},
   "outputs": [
    {
     "data": {
      "text/plain": [
       "Index(['p_desc', 'mrp', 'sp', 'dis_val', 'store_availability', 'rating_info',\n",
       "       'Category', 'Platform'],\n",
       "      dtype='object')"
      ]
     },
     "execution_count": 42,
     "metadata": {},
     "output_type": "execute_result"
    }
   ],
   "source": [
    "df_bigbasket.columns"
   ]
  },
  {
   "cell_type": "code",
   "execution_count": 43,
   "metadata": {},
   "outputs": [],
   "source": [
    "df_bigbasket.columns = df_bigbasket.columns = ['ProductName', 'ActualPrice', 'SpecialPrice', 'Discount','IsAvailable', 'Rating', 'Category', 'Platform']"
   ]
  },
  {
   "cell_type": "code",
   "execution_count": 44,
   "metadata": {},
   "outputs": [
    {
     "data": {
      "text/plain": [
       "ProductName      object\n",
       "ActualPrice     float64\n",
       "SpecialPrice    float64\n",
       "Discount        float64\n",
       "IsAvailable        bool\n",
       "Rating           object\n",
       "Category         object\n",
       "Platform         object\n",
       "dtype: object"
      ]
     },
     "execution_count": 44,
     "metadata": {},
     "output_type": "execute_result"
    }
   ],
   "source": [
    "df_bigbasket.dtypes"
   ]
  },
  {
   "cell_type": "code",
   "execution_count": 45,
   "metadata": {},
   "outputs": [
    {
     "data": {
      "text/html": [
       "<div>\n",
       "<style scoped>\n",
       "    .dataframe tbody tr th:only-of-type {\n",
       "        vertical-align: middle;\n",
       "    }\n",
       "\n",
       "    .dataframe tbody tr th {\n",
       "        vertical-align: top;\n",
       "    }\n",
       "\n",
       "    .dataframe thead th {\n",
       "        text-align: right;\n",
       "    }\n",
       "</style>\n",
       "<table border=\"1\" class=\"dataframe\">\n",
       "  <thead>\n",
       "    <tr style=\"text-align: right;\">\n",
       "      <th></th>\n",
       "      <th>ProductName</th>\n",
       "      <th>ActualPrice</th>\n",
       "      <th>SpecialPrice</th>\n",
       "      <th>Discount</th>\n",
       "      <th>IsAvailable</th>\n",
       "      <th>Rating</th>\n",
       "      <th>Category</th>\n",
       "      <th>Platform</th>\n",
       "    </tr>\n",
       "  </thead>\n",
       "  <tbody>\n",
       "    <tr>\n",
       "      <th>8</th>\n",
       "      <td>Darjeeling Green Tea - Ahina Long Leaf</td>\n",
       "      <td>550.0</td>\n",
       "      <td>550.0</td>\n",
       "      <td>0.0</td>\n",
       "      <td>True</td>\n",
       "      <td>1</td>\n",
       "      <td>Beverages</td>\n",
       "      <td>BigBasket</td>\n",
       "    </tr>\n",
       "    <tr>\n",
       "      <th>10</th>\n",
       "      <td>Darjeeling Black Tea - Bodh Second Flush</td>\n",
       "      <td>550.0</td>\n",
       "      <td>550.0</td>\n",
       "      <td>0.0</td>\n",
       "      <td>True</td>\n",
       "      <td>5</td>\n",
       "      <td>Beverages</td>\n",
       "      <td>BigBasket</td>\n",
       "    </tr>\n",
       "    <tr>\n",
       "      <th>11</th>\n",
       "      <td>Lemon Green Tea Bags</td>\n",
       "      <td>130.0</td>\n",
       "      <td>130.0</td>\n",
       "      <td>0.0</td>\n",
       "      <td>True</td>\n",
       "      <td>5</td>\n",
       "      <td>Beverages</td>\n",
       "      <td>BigBasket</td>\n",
       "    </tr>\n",
       "    <tr>\n",
       "      <th>0</th>\n",
       "      <td>Oolong Tea - Tapas</td>\n",
       "      <td>800.0</td>\n",
       "      <td>800.0</td>\n",
       "      <td>0.0</td>\n",
       "      <td>True</td>\n",
       "      <td>5</td>\n",
       "      <td>Beverages</td>\n",
       "      <td>BigBasket</td>\n",
       "    </tr>\n",
       "    <tr>\n",
       "      <th>1</th>\n",
       "      <td>Green Tea - Avana</td>\n",
       "      <td>800.0</td>\n",
       "      <td>800.0</td>\n",
       "      <td>0.0</td>\n",
       "      <td>True</td>\n",
       "      <td>3</td>\n",
       "      <td>Beverages</td>\n",
       "      <td>BigBasket</td>\n",
       "    </tr>\n",
       "  </tbody>\n",
       "</table>\n",
       "</div>"
      ],
      "text/plain": [
       "                                 ProductName  ActualPrice  SpecialPrice  \\\n",
       "8     Darjeeling Green Tea - Ahina Long Leaf        550.0         550.0   \n",
       "10  Darjeeling Black Tea - Bodh Second Flush        550.0         550.0   \n",
       "11                      Lemon Green Tea Bags        130.0         130.0   \n",
       "0                         Oolong Tea - Tapas        800.0         800.0   \n",
       "1                          Green Tea - Avana        800.0         800.0   \n",
       "\n",
       "    Discount  IsAvailable Rating   Category   Platform  \n",
       "8        0.0         True      1  Beverages  BigBasket  \n",
       "10       0.0         True      5  Beverages  BigBasket  \n",
       "11       0.0         True      5  Beverages  BigBasket  \n",
       "0        0.0         True      5  Beverages  BigBasket  \n",
       "1        0.0         True      3  Beverages  BigBasket  "
      ]
     },
     "execution_count": 45,
     "metadata": {},
     "output_type": "execute_result"
    }
   ],
   "source": [
    "df_bigbasket[df_bigbasket['Rating'] != CONST_NOT_APPLICABLE].head()"
   ]
  },
  {
   "cell_type": "code",
   "execution_count": 46,
   "metadata": {},
   "outputs": [
    {
     "data": {
      "text/html": [
       "<div>\n",
       "<style scoped>\n",
       "    .dataframe tbody tr th:only-of-type {\n",
       "        vertical-align: middle;\n",
       "    }\n",
       "\n",
       "    .dataframe tbody tr th {\n",
       "        vertical-align: top;\n",
       "    }\n",
       "\n",
       "    .dataframe thead th {\n",
       "        text-align: right;\n",
       "    }\n",
       "</style>\n",
       "<table border=\"1\" class=\"dataframe\">\n",
       "  <thead>\n",
       "    <tr style=\"text-align: right;\">\n",
       "      <th></th>\n",
       "      <th>Unnamed: 0</th>\n",
       "      <th>name</th>\n",
       "      <th>price_MRP</th>\n",
       "      <th>price_SALE</th>\n",
       "      <th>save_price</th>\n",
       "      <th>defining</th>\n",
       "      <th>buyable</th>\n",
       "    </tr>\n",
       "  </thead>\n",
       "  <tbody>\n",
       "    <tr>\n",
       "      <th>0</th>\n",
       "      <td>0</td>\n",
       "      <td>Premia Jeera : 100 gms</td>\n",
       "      <td>32.0</td>\n",
       "      <td>27.0</td>\n",
       "      <td>5.0</td>\n",
       "      <td>[{'volume': '100 gm'}]</td>\n",
       "      <td>True</td>\n",
       "    </tr>\n",
       "    <tr>\n",
       "      <th>1</th>\n",
       "      <td>1</td>\n",
       "      <td>Premia Dry Coconut : 200 gms</td>\n",
       "      <td>87.0</td>\n",
       "      <td>60.0</td>\n",
       "      <td>27.0</td>\n",
       "      <td>[{'volume': '200 gm'}]</td>\n",
       "      <td>True</td>\n",
       "    </tr>\n",
       "    <tr>\n",
       "      <th>2</th>\n",
       "      <td>2</td>\n",
       "      <td>Premia Til White : 100 gms</td>\n",
       "      <td>31.0</td>\n",
       "      <td>25.0</td>\n",
       "      <td>6.0</td>\n",
       "      <td>[{'volume': '100 gm'}]</td>\n",
       "      <td>True</td>\n",
       "    </tr>\n",
       "    <tr>\n",
       "      <th>3</th>\n",
       "      <td>3</td>\n",
       "      <td>Everest Garam Masala : 100 gms</td>\n",
       "      <td>78.0</td>\n",
       "      <td>72.0</td>\n",
       "      <td>6.0</td>\n",
       "      <td>[{'volume': '100 gm'}]</td>\n",
       "      <td>True</td>\n",
       "    </tr>\n",
       "    <tr>\n",
       "      <th>4</th>\n",
       "      <td>4</td>\n",
       "      <td>Everest Pav Bhaji Masala : 100 gms</td>\n",
       "      <td>66.0</td>\n",
       "      <td>61.0</td>\n",
       "      <td>5.0</td>\n",
       "      <td>[{'volume': '100 gm'}]</td>\n",
       "      <td>True</td>\n",
       "    </tr>\n",
       "  </tbody>\n",
       "</table>\n",
       "</div>"
      ],
      "text/plain": [
       "   Unnamed: 0                                name  price_MRP  price_SALE  \\\n",
       "0           0              Premia Jeera : 100 gms       32.0        27.0   \n",
       "1           1        Premia Dry Coconut : 200 gms       87.0        60.0   \n",
       "2           2          Premia Til White : 100 gms       31.0        25.0   \n",
       "3           3      Everest Garam Masala : 100 gms       78.0        72.0   \n",
       "4           4  Everest Pav Bhaji Masala : 100 gms       66.0        61.0   \n",
       "\n",
       "   save_price                defining  buyable  \n",
       "0         5.0  [{'volume': '100 gm'}]     True  \n",
       "1        27.0  [{'volume': '200 gm'}]     True  \n",
       "2         6.0  [{'volume': '100 gm'}]     True  \n",
       "3         6.0  [{'volume': '100 gm'}]     True  \n",
       "4         5.0  [{'volume': '100 gm'}]     True  "
      ]
     },
     "execution_count": 46,
     "metadata": {},
     "output_type": "execute_result"
    }
   ],
   "source": [
    "df_dmart = pd.concat(map(pd.read_csv, glob.glob(os.path.join('', \"outputs/dmart*.csv\"))))\n",
    "df_dmart.head()"
   ]
  },
  {
   "cell_type": "code",
   "execution_count": 47,
   "metadata": {},
   "outputs": [
    {
     "data": {
      "text/plain": [
       "(407, 7)"
      ]
     },
     "execution_count": 47,
     "metadata": {},
     "output_type": "execute_result"
    }
   ],
   "source": [
    "df_dmart.shape"
   ]
  },
  {
   "cell_type": "code",
   "execution_count": 48,
   "metadata": {},
   "outputs": [],
   "source": [
    "df_dmart.drop('Unnamed: 0', axis=1,inplace=True)"
   ]
  },
  {
   "cell_type": "code",
   "execution_count": 49,
   "metadata": {},
   "outputs": [],
   "source": [
    "df_dmart.drop('defining', axis=1,inplace=True)"
   ]
  },
  {
   "cell_type": "code",
   "execution_count": 50,
   "metadata": {},
   "outputs": [],
   "source": [
    "df_dmart['Category'] = CONST_PRODUCT_BEVERAGES\n",
    "df_dmart['Rating'] = CONST_NOT_APPLICABLE\n",
    "df_dmart['Platform']  = CONST_PLATFORM_DMART"
   ]
  },
  {
   "cell_type": "code",
   "execution_count": 51,
   "metadata": {},
   "outputs": [
    {
     "data": {
      "text/plain": [
       "Index(['name', 'price_MRP', 'price_SALE', 'save_price', 'buyable', 'Category',\n",
       "       'Rating', 'Platform'],\n",
       "      dtype='object')"
      ]
     },
     "execution_count": 51,
     "metadata": {},
     "output_type": "execute_result"
    }
   ],
   "source": [
    "df_dmart.columns"
   ]
  },
  {
   "cell_type": "code",
   "execution_count": 52,
   "metadata": {},
   "outputs": [],
   "source": [
    "df_dmart.columns = df_dmart.columns = ['ProductName', 'ActualPrice', 'SpecialPrice', 'Discount','IsAvailable', 'Category', 'Rating', 'Platform']"
   ]
  },
  {
   "cell_type": "code",
   "execution_count": 53,
   "metadata": {},
   "outputs": [
    {
     "data": {
      "text/html": [
       "<div>\n",
       "<style scoped>\n",
       "    .dataframe tbody tr th:only-of-type {\n",
       "        vertical-align: middle;\n",
       "    }\n",
       "\n",
       "    .dataframe tbody tr th {\n",
       "        vertical-align: top;\n",
       "    }\n",
       "\n",
       "    .dataframe thead th {\n",
       "        text-align: right;\n",
       "    }\n",
       "</style>\n",
       "<table border=\"1\" class=\"dataframe\">\n",
       "  <thead>\n",
       "    <tr style=\"text-align: right;\">\n",
       "      <th></th>\n",
       "      <th>ProductName</th>\n",
       "      <th>ActualPrice</th>\n",
       "      <th>SpecialPrice</th>\n",
       "      <th>Discount</th>\n",
       "      <th>IsAvailable</th>\n",
       "      <th>Category</th>\n",
       "      <th>Rating</th>\n",
       "      <th>Platform</th>\n",
       "    </tr>\n",
       "  </thead>\n",
       "  <tbody>\n",
       "    <tr>\n",
       "      <th>0</th>\n",
       "      <td>Premia Jeera : 100 gms</td>\n",
       "      <td>32.0</td>\n",
       "      <td>27.0</td>\n",
       "      <td>5.0</td>\n",
       "      <td>True</td>\n",
       "      <td>Beverages</td>\n",
       "      <td>N/A</td>\n",
       "      <td>Dmart</td>\n",
       "    </tr>\n",
       "    <tr>\n",
       "      <th>1</th>\n",
       "      <td>Premia Dry Coconut : 200 gms</td>\n",
       "      <td>87.0</td>\n",
       "      <td>60.0</td>\n",
       "      <td>27.0</td>\n",
       "      <td>True</td>\n",
       "      <td>Beverages</td>\n",
       "      <td>N/A</td>\n",
       "      <td>Dmart</td>\n",
       "    </tr>\n",
       "    <tr>\n",
       "      <th>2</th>\n",
       "      <td>Premia Til White : 100 gms</td>\n",
       "      <td>31.0</td>\n",
       "      <td>25.0</td>\n",
       "      <td>6.0</td>\n",
       "      <td>True</td>\n",
       "      <td>Beverages</td>\n",
       "      <td>N/A</td>\n",
       "      <td>Dmart</td>\n",
       "    </tr>\n",
       "    <tr>\n",
       "      <th>3</th>\n",
       "      <td>Everest Garam Masala : 100 gms</td>\n",
       "      <td>78.0</td>\n",
       "      <td>72.0</td>\n",
       "      <td>6.0</td>\n",
       "      <td>True</td>\n",
       "      <td>Beverages</td>\n",
       "      <td>N/A</td>\n",
       "      <td>Dmart</td>\n",
       "    </tr>\n",
       "    <tr>\n",
       "      <th>4</th>\n",
       "      <td>Everest Pav Bhaji Masala : 100 gms</td>\n",
       "      <td>66.0</td>\n",
       "      <td>61.0</td>\n",
       "      <td>5.0</td>\n",
       "      <td>True</td>\n",
       "      <td>Beverages</td>\n",
       "      <td>N/A</td>\n",
       "      <td>Dmart</td>\n",
       "    </tr>\n",
       "  </tbody>\n",
       "</table>\n",
       "</div>"
      ],
      "text/plain": [
       "                          ProductName  ActualPrice  SpecialPrice  Discount  \\\n",
       "0              Premia Jeera : 100 gms         32.0          27.0       5.0   \n",
       "1        Premia Dry Coconut : 200 gms         87.0          60.0      27.0   \n",
       "2          Premia Til White : 100 gms         31.0          25.0       6.0   \n",
       "3      Everest Garam Masala : 100 gms         78.0          72.0       6.0   \n",
       "4  Everest Pav Bhaji Masala : 100 gms         66.0          61.0       5.0   \n",
       "\n",
       "   IsAvailable   Category Rating Platform  \n",
       "0         True  Beverages    N/A    Dmart  \n",
       "1         True  Beverages    N/A    Dmart  \n",
       "2         True  Beverages    N/A    Dmart  \n",
       "3         True  Beverages    N/A    Dmart  \n",
       "4         True  Beverages    N/A    Dmart  "
      ]
     },
     "execution_count": 53,
     "metadata": {},
     "output_type": "execute_result"
    }
   ],
   "source": [
    "df_dmart.head()"
   ]
  },
  {
   "cell_type": "code",
   "execution_count": 54,
   "metadata": {},
   "outputs": [
    {
     "data": {
      "text/html": [
       "<div>\n",
       "<style scoped>\n",
       "    .dataframe tbody tr th:only-of-type {\n",
       "        vertical-align: middle;\n",
       "    }\n",
       "\n",
       "    .dataframe tbody tr th {\n",
       "        vertical-align: top;\n",
       "    }\n",
       "\n",
       "    .dataframe thead th {\n",
       "        text-align: right;\n",
       "    }\n",
       "</style>\n",
       "<table border=\"1\" class=\"dataframe\">\n",
       "  <thead>\n",
       "    <tr style=\"text-align: right;\">\n",
       "      <th></th>\n",
       "      <th>Category</th>\n",
       "      <th>itemname</th>\n",
       "      <th>price(₹)</th>\n",
       "      <th>MRP(₹)</th>\n",
       "      <th>discount</th>\n",
       "      <th>rating</th>\n",
       "      <th>itemsdeliverable</th>\n",
       "    </tr>\n",
       "  </thead>\n",
       "  <tbody>\n",
       "    <tr>\n",
       "      <th>0</th>\n",
       "      <td>coffee</td>\n",
       "      <td>Sinew Nutrition Green Coffee Beans (250g x 4 PC) for We...</td>\n",
       "      <td>683</td>\n",
       "      <td>₹,1,996</td>\n",
       "      <td>65% off</td>\n",
       "      <td>4</td>\n",
       "      <td>Not Deliverable</td>\n",
       "    </tr>\n",
       "    <tr>\n",
       "      <th>1</th>\n",
       "      <td>coffee</td>\n",
       "      <td>Nescafe GOLD Blend Crafted With Arabica Ground 10 time ...</td>\n",
       "      <td>945</td>\n",
       "      <td>₹,1,299</td>\n",
       "      <td>27% off</td>\n",
       "      <td>NaN</td>\n",
       "      <td>Not Deliverable</td>\n",
       "    </tr>\n",
       "    <tr>\n",
       "      <th>2</th>\n",
       "      <td>coffee</td>\n",
       "      <td>Enaliv Organic Premium AAA Grade Green Coffee for Detox...</td>\n",
       "      <td>199</td>\n",
       "      <td>₹,299</td>\n",
       "      <td>33% off</td>\n",
       "      <td>4.1</td>\n",
       "      <td>Not Deliverable</td>\n",
       "    </tr>\n",
       "    <tr>\n",
       "      <th>3</th>\n",
       "      <td>coffee</td>\n",
       "      <td>Neuherbs Green Coffee Beans for Weight Loss Management ...</td>\n",
       "      <td>349</td>\n",
       "      <td>₹,578</td>\n",
       "      <td>39% off</td>\n",
       "      <td>4</td>\n",
       "      <td>NaN</td>\n",
       "    </tr>\n",
       "    <tr>\n",
       "      <th>4</th>\n",
       "      <td>coffee</td>\n",
       "      <td>VedaneQ Green Coffee Beans Weight loss Unroasted Arabic...</td>\n",
       "      <td>118</td>\n",
       "      <td>₹,799</td>\n",
       "      <td>85% off</td>\n",
       "      <td>4</td>\n",
       "      <td>Not Deliverable</td>\n",
       "    </tr>\n",
       "  </tbody>\n",
       "</table>\n",
       "</div>"
      ],
      "text/plain": [
       "  Category                                                    itemname  \\\n",
       "0   coffee  Sinew Nutrition Green Coffee Beans (250g x 4 PC) for We...   \n",
       "1   coffee  Nescafe GOLD Blend Crafted With Arabica Ground 10 time ...   \n",
       "2   coffee  Enaliv Organic Premium AAA Grade Green Coffee for Detox...   \n",
       "3   coffee  Neuherbs Green Coffee Beans for Weight Loss Management ...   \n",
       "4   coffee  VedaneQ Green Coffee Beans Weight loss Unroasted Arabic...   \n",
       "\n",
       "  price(₹)   MRP(₹) discount rating itemsdeliverable  \n",
       "0      683  ₹,1,996  65% off      4  Not Deliverable  \n",
       "1      945  ₹,1,299  27% off    NaN  Not Deliverable  \n",
       "2      199    ₹,299  33% off    4.1  Not Deliverable  \n",
       "3      349    ₹,578  39% off      4              NaN  \n",
       "4      118    ₹,799  85% off      4  Not Deliverable  "
      ]
     },
     "execution_count": 54,
     "metadata": {},
     "output_type": "execute_result"
    }
   ],
   "source": [
    "df_flipkart = pd.concat(map(pd.read_csv, glob.glob(os.path.join('', \"outputs/flipkart*.csv\"))))\n",
    "df_flipkart.head()"
   ]
  },
  {
   "cell_type": "code",
   "execution_count": 55,
   "metadata": {},
   "outputs": [
    {
     "data": {
      "text/plain": [
       "(42006, 7)"
      ]
     },
     "execution_count": 55,
     "metadata": {},
     "output_type": "execute_result"
    }
   ],
   "source": [
    "df_flipkart.shape"
   ]
  },
  {
   "cell_type": "code",
   "execution_count": 56,
   "metadata": {},
   "outputs": [],
   "source": [
    "#df_flipkart[df_flipkart.duplicated(['itemname'])]\n",
    "df_flipkart.drop_duplicates(subset =\"itemname\", keep = 'first', inplace = True) "
   ]
  },
  {
   "cell_type": "code",
   "execution_count": 57,
   "metadata": {},
   "outputs": [],
   "source": [
    "df_flipkart['Platform']  = CONST_PLATFORM_FLIPKART"
   ]
  },
  {
   "cell_type": "code",
   "execution_count": 58,
   "metadata": {},
   "outputs": [
    {
     "data": {
      "text/plain": [
       "array(['Not Deliverable', nan, 'Temporarily Unavailable',\n",
       "       'itemsdeliverable'], dtype=object)"
      ]
     },
     "execution_count": 58,
     "metadata": {},
     "output_type": "execute_result"
    }
   ],
   "source": [
    "df_flipkart['itemsdeliverable'].unique()"
   ]
  },
  {
   "cell_type": "code",
   "execution_count": 59,
   "metadata": {},
   "outputs": [],
   "source": [
    "df_flipkart.loc[df_flipkart['itemsdeliverable'] != 'itemsdeliverable', 'itemsdeliverable'] = False\n",
    "df_flipkart.loc[df_flipkart['itemsdeliverable'] == 'itemsdeliverable', 'itemsdeliverable'] = True"
   ]
  },
  {
   "cell_type": "code",
   "execution_count": 60,
   "metadata": {},
   "outputs": [
    {
     "data": {
      "text/plain": [
       "array([False, True], dtype=object)"
      ]
     },
     "execution_count": 60,
     "metadata": {},
     "output_type": "execute_result"
    }
   ],
   "source": [
    "df_flipkart['itemsdeliverable'].unique()"
   ]
  },
  {
   "cell_type": "code",
   "execution_count": 61,
   "metadata": {},
   "outputs": [
    {
     "data": {
      "text/plain": [
       "(1, 8)"
      ]
     },
     "execution_count": 61,
     "metadata": {},
     "output_type": "execute_result"
    }
   ],
   "source": [
    "df_flipkart[df_flipkart['itemsdeliverable']== True].shape"
   ]
  },
  {
   "cell_type": "code",
   "execution_count": 62,
   "metadata": {},
   "outputs": [
    {
     "data": {
      "text/plain": [
       "Index(['Category', 'itemname', 'price(₹)', 'MRP(₹)', 'discount', 'rating',\n",
       "       'itemsdeliverable', 'Platform'],\n",
       "      dtype='object')"
      ]
     },
     "execution_count": 62,
     "metadata": {},
     "output_type": "execute_result"
    }
   ],
   "source": [
    "df_flipkart.columns"
   ]
  },
  {
   "cell_type": "code",
   "execution_count": 63,
   "metadata": {},
   "outputs": [],
   "source": [
    "df_flipkart.columns = ['Category','ProductName', 'SpecialPrice', 'ActualPrice','Discount', 'Rating', 'IsAvailable', 'Platform']"
   ]
  },
  {
   "cell_type": "code",
   "execution_count": 64,
   "metadata": {},
   "outputs": [],
   "source": [
    "df_flipkart['ActualPrice'] = df_flipkart['ActualPrice'].replace('₹', '', regex=True).replace(',', '', regex=True)"
   ]
  },
  {
   "cell_type": "code",
   "execution_count": 65,
   "metadata": {},
   "outputs": [],
   "source": [
    "df_flipkart.drop(df_flipkart[df_flipkart['Category'] == 'Category'].index, inplace = True)"
   ]
  },
  {
   "cell_type": "code",
   "execution_count": 66,
   "metadata": {},
   "outputs": [
    {
     "data": {
      "text/html": [
       "<div>\n",
       "<style scoped>\n",
       "    .dataframe tbody tr th:only-of-type {\n",
       "        vertical-align: middle;\n",
       "    }\n",
       "\n",
       "    .dataframe tbody tr th {\n",
       "        vertical-align: top;\n",
       "    }\n",
       "\n",
       "    .dataframe thead th {\n",
       "        text-align: right;\n",
       "    }\n",
       "</style>\n",
       "<table border=\"1\" class=\"dataframe\">\n",
       "  <thead>\n",
       "    <tr style=\"text-align: right;\">\n",
       "      <th></th>\n",
       "      <th>Category</th>\n",
       "      <th>ProductName</th>\n",
       "      <th>SpecialPrice</th>\n",
       "      <th>ActualPrice</th>\n",
       "      <th>Discount</th>\n",
       "      <th>Rating</th>\n",
       "      <th>IsAvailable</th>\n",
       "      <th>Platform</th>\n",
       "    </tr>\n",
       "  </thead>\n",
       "  <tbody>\n",
       "    <tr>\n",
       "      <th>0</th>\n",
       "      <td>coffee</td>\n",
       "      <td>Sinew Nutrition Green Coffee Beans (250g x 4 PC) for We...</td>\n",
       "      <td>683</td>\n",
       "      <td>1996</td>\n",
       "      <td>65% off</td>\n",
       "      <td>4</td>\n",
       "      <td>False</td>\n",
       "      <td>Flipkart</td>\n",
       "    </tr>\n",
       "    <tr>\n",
       "      <th>1</th>\n",
       "      <td>coffee</td>\n",
       "      <td>Nescafe GOLD Blend Crafted With Arabica Ground 10 time ...</td>\n",
       "      <td>945</td>\n",
       "      <td>1299</td>\n",
       "      <td>27% off</td>\n",
       "      <td>NaN</td>\n",
       "      <td>False</td>\n",
       "      <td>Flipkart</td>\n",
       "    </tr>\n",
       "    <tr>\n",
       "      <th>2</th>\n",
       "      <td>coffee</td>\n",
       "      <td>Enaliv Organic Premium AAA Grade Green Coffee for Detox...</td>\n",
       "      <td>199</td>\n",
       "      <td>299</td>\n",
       "      <td>33% off</td>\n",
       "      <td>4.1</td>\n",
       "      <td>False</td>\n",
       "      <td>Flipkart</td>\n",
       "    </tr>\n",
       "    <tr>\n",
       "      <th>3</th>\n",
       "      <td>coffee</td>\n",
       "      <td>Neuherbs Green Coffee Beans for Weight Loss Management ...</td>\n",
       "      <td>349</td>\n",
       "      <td>578</td>\n",
       "      <td>39% off</td>\n",
       "      <td>4</td>\n",
       "      <td>False</td>\n",
       "      <td>Flipkart</td>\n",
       "    </tr>\n",
       "    <tr>\n",
       "      <th>4</th>\n",
       "      <td>coffee</td>\n",
       "      <td>VedaneQ Green Coffee Beans Weight loss Unroasted Arabic...</td>\n",
       "      <td>118</td>\n",
       "      <td>799</td>\n",
       "      <td>85% off</td>\n",
       "      <td>4</td>\n",
       "      <td>False</td>\n",
       "      <td>Flipkart</td>\n",
       "    </tr>\n",
       "  </tbody>\n",
       "</table>\n",
       "</div>"
      ],
      "text/plain": [
       "  Category                                                 ProductName  \\\n",
       "0   coffee  Sinew Nutrition Green Coffee Beans (250g x 4 PC) for We...   \n",
       "1   coffee  Nescafe GOLD Blend Crafted With Arabica Ground 10 time ...   \n",
       "2   coffee  Enaliv Organic Premium AAA Grade Green Coffee for Detox...   \n",
       "3   coffee  Neuherbs Green Coffee Beans for Weight Loss Management ...   \n",
       "4   coffee  VedaneQ Green Coffee Beans Weight loss Unroasted Arabic...   \n",
       "\n",
       "  SpecialPrice ActualPrice Discount Rating IsAvailable  Platform  \n",
       "0          683        1996  65% off      4       False  Flipkart  \n",
       "1          945        1299  27% off    NaN       False  Flipkart  \n",
       "2          199         299  33% off    4.1       False  Flipkart  \n",
       "3          349         578  39% off      4       False  Flipkart  \n",
       "4          118         799  85% off      4       False  Flipkart  "
      ]
     },
     "execution_count": 66,
     "metadata": {},
     "output_type": "execute_result"
    }
   ],
   "source": [
    "df_flipkart.head()"
   ]
  },
  {
   "cell_type": "markdown",
   "metadata": {},
   "source": [
    "<h2 align=\"center\" style=\"background-color:yellow;\">(C) DATA INTEGRATION</h2>"
   ]
  },
  {
   "cell_type": "code",
   "execution_count": 67,
   "metadata": {},
   "outputs": [],
   "source": [
    "df_all_platforms = pd.concat([df_amazon, df_bigbasket, df_dmart, df_flipkart], axis=0)"
   ]
  },
  {
   "cell_type": "code",
   "execution_count": 68,
   "metadata": {},
   "outputs": [
    {
     "data": {
      "text/plain": [
       "Index(['ProductName', 'ActualPrice', 'Rating', 'Category', 'SpecialPrice',\n",
       "       'Discount', 'IsAvailable', 'Platform'],\n",
       "      dtype='object')"
      ]
     },
     "execution_count": 68,
     "metadata": {},
     "output_type": "execute_result"
    }
   ],
   "source": [
    "df_all_platforms.columns"
   ]
  },
  {
   "cell_type": "code",
   "execution_count": 69,
   "metadata": {},
   "outputs": [
    {
     "data": {
      "text/plain": [
       "ProductName     object\n",
       "ActualPrice     object\n",
       "Rating          object\n",
       "Category        object\n",
       "SpecialPrice    object\n",
       "Discount        object\n",
       "IsAvailable     object\n",
       "Platform        object\n",
       "dtype: object"
      ]
     },
     "execution_count": 69,
     "metadata": {},
     "output_type": "execute_result"
    }
   ],
   "source": [
    "df_all_platforms.dtypes"
   ]
  },
  {
   "cell_type": "code",
   "execution_count": 70,
   "metadata": {},
   "outputs": [],
   "source": [
    "df_all_platforms.drop_duplicates(subset =\"ProductName\", keep = 'first', inplace = True) "
   ]
  },
  {
   "cell_type": "code",
   "execution_count": 71,
   "metadata": {},
   "outputs": [],
   "source": [
    "df_all_platforms['ProductName'] = df_all_platforms['ProductName'].str.lower() "
   ]
  },
  {
   "cell_type": "code",
   "execution_count": 72,
   "metadata": {},
   "outputs": [],
   "source": [
    "df_all_platforms[['ActualPrice']] = df_all_platforms[['ActualPrice']].astype(np.float)"
   ]
  },
  {
   "cell_type": "code",
   "execution_count": 73,
   "metadata": {},
   "outputs": [],
   "source": [
    "df_all_platforms['SpecialPrice'] = df_all_platforms['SpecialPrice'].replace(',', '', regex=True)\n",
    "df_all_platforms[['SpecialPrice']] = df_all_platforms[['SpecialPrice']].astype(np.float)"
   ]
  },
  {
   "cell_type": "code",
   "execution_count": 74,
   "metadata": {},
   "outputs": [],
   "source": [
    "df_all_platforms['Rating'].fillna(0, inplace=True)"
   ]
  },
  {
   "cell_type": "code",
   "execution_count": 75,
   "metadata": {},
   "outputs": [],
   "source": [
    "df_all_platforms['Rating'] = df_all_platforms['Rating'].replace(CONST_NOT_APPLICABLE , 0, regex=True)"
   ]
  },
  {
   "cell_type": "code",
   "execution_count": 76,
   "metadata": {},
   "outputs": [],
   "source": [
    "df_all_platforms[['Rating']] = df_all_platforms[['Rating']].astype(np.float)"
   ]
  },
  {
   "cell_type": "code",
   "execution_count": 77,
   "metadata": {},
   "outputs": [],
   "source": [
    "df_all_platforms['Discount'] = df_all_platforms['Discount'].replace('%', '', regex=True).replace('off', '', regex=True)"
   ]
  },
  {
   "cell_type": "code",
   "execution_count": 78,
   "metadata": {},
   "outputs": [],
   "source": [
    "df_all_platforms[['Discount']] = df_all_platforms[['Discount']].astype(np.float)"
   ]
  },
  {
   "cell_type": "code",
   "execution_count": 79,
   "metadata": {},
   "outputs": [
    {
     "data": {
      "text/plain": [
       "ProductName      object\n",
       "ActualPrice     float64\n",
       "Rating          float64\n",
       "Category         object\n",
       "SpecialPrice    float64\n",
       "Discount        float64\n",
       "IsAvailable      object\n",
       "Platform         object\n",
       "dtype: object"
      ]
     },
     "execution_count": 79,
     "metadata": {},
     "output_type": "execute_result"
    }
   ],
   "source": [
    "df_all_platforms.dtypes"
   ]
  },
  {
   "cell_type": "code",
   "execution_count": 80,
   "metadata": {},
   "outputs": [],
   "source": [
    "df_all_platforms.to_csv('outputs/df_all_platforms.csv', index=False)"
   ]
  },
  {
   "cell_type": "code",
   "execution_count": 81,
   "metadata": {},
   "outputs": [
    {
     "data": {
      "text/html": [
       "<div>\n",
       "<style scoped>\n",
       "    .dataframe tbody tr th:only-of-type {\n",
       "        vertical-align: middle;\n",
       "    }\n",
       "\n",
       "    .dataframe tbody tr th {\n",
       "        vertical-align: top;\n",
       "    }\n",
       "\n",
       "    .dataframe thead th {\n",
       "        text-align: right;\n",
       "    }\n",
       "</style>\n",
       "<table border=\"1\" class=\"dataframe\">\n",
       "  <thead>\n",
       "    <tr style=\"text-align: right;\">\n",
       "      <th></th>\n",
       "      <th>ProductName</th>\n",
       "      <th>ActualPrice</th>\n",
       "      <th>Rating</th>\n",
       "      <th>Category</th>\n",
       "      <th>SpecialPrice</th>\n",
       "      <th>Discount</th>\n",
       "      <th>IsAvailable</th>\n",
       "      <th>Platform</th>\n",
       "    </tr>\n",
       "  </thead>\n",
       "  <tbody>\n",
       "    <tr>\n",
       "      <th>0</th>\n",
       "      <td>henfruit farm white eggs, 30 pcs</td>\n",
       "      <td>160.0</td>\n",
       "      <td>3.8</td>\n",
       "      <td>Meat, Poultry &amp; Seafood</td>\n",
       "      <td>160.0</td>\n",
       "      <td>0.0</td>\n",
       "      <td>True</td>\n",
       "      <td>Amazon</td>\n",
       "    </tr>\n",
       "    <tr>\n",
       "      <th>1</th>\n",
       "      <td>fresh eggs - 30 piece</td>\n",
       "      <td>185.0</td>\n",
       "      <td>3.0</td>\n",
       "      <td>Meat, Poultry &amp; Seafood</td>\n",
       "      <td>185.0</td>\n",
       "      <td>0.0</td>\n",
       "      <td>True</td>\n",
       "      <td>Amazon</td>\n",
       "    </tr>\n",
       "    <tr>\n",
       "      <th>2</th>\n",
       "      <td>fresh eggs - 12 piece</td>\n",
       "      <td>649.0</td>\n",
       "      <td>3.5</td>\n",
       "      <td>Meat, Poultry &amp; Seafood</td>\n",
       "      <td>649.0</td>\n",
       "      <td>0.0</td>\n",
       "      <td>True</td>\n",
       "      <td>Amazon</td>\n",
       "    </tr>\n",
       "    <tr>\n",
       "      <th>3</th>\n",
       "      <td>prabhat fresh eggs pack of 12</td>\n",
       "      <td>140.0</td>\n",
       "      <td>3.9</td>\n",
       "      <td>Meat, Poultry &amp; Seafood</td>\n",
       "      <td>140.0</td>\n",
       "      <td>0.0</td>\n",
       "      <td>True</td>\n",
       "      <td>Amazon</td>\n",
       "    </tr>\n",
       "    <tr>\n",
       "      <th>4</th>\n",
       "      <td>prabhat fresh eggs pack of 30</td>\n",
       "      <td>180.0</td>\n",
       "      <td>3.5</td>\n",
       "      <td>Meat, Poultry &amp; Seafood</td>\n",
       "      <td>180.0</td>\n",
       "      <td>0.0</td>\n",
       "      <td>True</td>\n",
       "      <td>Amazon</td>\n",
       "    </tr>\n",
       "  </tbody>\n",
       "</table>\n",
       "</div>"
      ],
      "text/plain": [
       "                        ProductName  ActualPrice  Rating  \\\n",
       "0  henfruit farm white eggs, 30 pcs        160.0     3.8   \n",
       "1             fresh eggs - 30 piece        185.0     3.0   \n",
       "2             fresh eggs - 12 piece        649.0     3.5   \n",
       "3     prabhat fresh eggs pack of 12        140.0     3.9   \n",
       "4     prabhat fresh eggs pack of 30        180.0     3.5   \n",
       "\n",
       "                  Category  SpecialPrice  Discount IsAvailable Platform  \n",
       "0  Meat, Poultry & Seafood         160.0       0.0        True   Amazon  \n",
       "1  Meat, Poultry & Seafood         185.0       0.0        True   Amazon  \n",
       "2  Meat, Poultry & Seafood         649.0       0.0        True   Amazon  \n",
       "3  Meat, Poultry & Seafood         140.0       0.0        True   Amazon  \n",
       "4  Meat, Poultry & Seafood         180.0       0.0        True   Amazon  "
      ]
     },
     "execution_count": 81,
     "metadata": {},
     "output_type": "execute_result"
    }
   ],
   "source": [
    "df_all_platforms[df_all_platforms['Platform'] == CONST_PLATFORM_AMAZON ].head()"
   ]
  },
  {
   "cell_type": "code",
   "execution_count": 82,
   "metadata": {},
   "outputs": [
    {
     "data": {
      "text/html": [
       "<div>\n",
       "<style scoped>\n",
       "    .dataframe tbody tr th:only-of-type {\n",
       "        vertical-align: middle;\n",
       "    }\n",
       "\n",
       "    .dataframe tbody tr th {\n",
       "        vertical-align: top;\n",
       "    }\n",
       "\n",
       "    .dataframe thead th {\n",
       "        text-align: right;\n",
       "    }\n",
       "</style>\n",
       "<table border=\"1\" class=\"dataframe\">\n",
       "  <thead>\n",
       "    <tr style=\"text-align: right;\">\n",
       "      <th></th>\n",
       "      <th>ProductName</th>\n",
       "      <th>ActualPrice</th>\n",
       "      <th>Rating</th>\n",
       "      <th>Category</th>\n",
       "      <th>SpecialPrice</th>\n",
       "      <th>Discount</th>\n",
       "      <th>IsAvailable</th>\n",
       "      <th>Platform</th>\n",
       "    </tr>\n",
       "  </thead>\n",
       "  <tbody>\n",
       "    <tr>\n",
       "      <th>0</th>\n",
       "      <td>nilgiri green tea - seiki peppermint</td>\n",
       "      <td>550.0</td>\n",
       "      <td>0.0</td>\n",
       "      <td>Beverages</td>\n",
       "      <td>550.0</td>\n",
       "      <td>0.0</td>\n",
       "      <td>True</td>\n",
       "      <td>BigBasket</td>\n",
       "    </tr>\n",
       "    <tr>\n",
       "      <th>1</th>\n",
       "      <td>nilgiri green tea - taido ginger</td>\n",
       "      <td>750.0</td>\n",
       "      <td>0.0</td>\n",
       "      <td>Beverages</td>\n",
       "      <td>750.0</td>\n",
       "      <td>0.0</td>\n",
       "      <td>True</td>\n",
       "      <td>BigBasket</td>\n",
       "    </tr>\n",
       "    <tr>\n",
       "      <th>2</th>\n",
       "      <td>nilgiri green tea - yakuso tulsi</td>\n",
       "      <td>550.0</td>\n",
       "      <td>0.0</td>\n",
       "      <td>Beverages</td>\n",
       "      <td>550.0</td>\n",
       "      <td>0.0</td>\n",
       "      <td>True</td>\n",
       "      <td>BigBasket</td>\n",
       "    </tr>\n",
       "    <tr>\n",
       "      <th>3</th>\n",
       "      <td>nilgiri green tea - taizen cinnamon</td>\n",
       "      <td>550.0</td>\n",
       "      <td>0.0</td>\n",
       "      <td>Beverages</td>\n",
       "      <td>550.0</td>\n",
       "      <td>0.0</td>\n",
       "      <td>True</td>\n",
       "      <td>BigBasket</td>\n",
       "    </tr>\n",
       "    <tr>\n",
       "      <th>4</th>\n",
       "      <td>nilgiris green tea - yoshin lemon</td>\n",
       "      <td>550.0</td>\n",
       "      <td>0.0</td>\n",
       "      <td>Beverages</td>\n",
       "      <td>550.0</td>\n",
       "      <td>0.0</td>\n",
       "      <td>True</td>\n",
       "      <td>BigBasket</td>\n",
       "    </tr>\n",
       "  </tbody>\n",
       "</table>\n",
       "</div>"
      ],
      "text/plain": [
       "                            ProductName  ActualPrice  Rating   Category  \\\n",
       "0  nilgiri green tea - seiki peppermint        550.0     0.0  Beverages   \n",
       "1      nilgiri green tea - taido ginger        750.0     0.0  Beverages   \n",
       "2      nilgiri green tea - yakuso tulsi        550.0     0.0  Beverages   \n",
       "3   nilgiri green tea - taizen cinnamon        550.0     0.0  Beverages   \n",
       "4     nilgiris green tea - yoshin lemon        550.0     0.0  Beverages   \n",
       "\n",
       "   SpecialPrice  Discount IsAvailable   Platform  \n",
       "0         550.0       0.0        True  BigBasket  \n",
       "1         750.0       0.0        True  BigBasket  \n",
       "2         550.0       0.0        True  BigBasket  \n",
       "3         550.0       0.0        True  BigBasket  \n",
       "4         550.0       0.0        True  BigBasket  "
      ]
     },
     "execution_count": 82,
     "metadata": {},
     "output_type": "execute_result"
    }
   ],
   "source": [
    "df_all_platforms[df_all_platforms['Platform'] == CONST_PLATFORM_BIGBASKET ].head()"
   ]
  },
  {
   "cell_type": "code",
   "execution_count": 83,
   "metadata": {},
   "outputs": [
    {
     "data": {
      "text/html": [
       "<div>\n",
       "<style scoped>\n",
       "    .dataframe tbody tr th:only-of-type {\n",
       "        vertical-align: middle;\n",
       "    }\n",
       "\n",
       "    .dataframe tbody tr th {\n",
       "        vertical-align: top;\n",
       "    }\n",
       "\n",
       "    .dataframe thead th {\n",
       "        text-align: right;\n",
       "    }\n",
       "</style>\n",
       "<table border=\"1\" class=\"dataframe\">\n",
       "  <thead>\n",
       "    <tr style=\"text-align: right;\">\n",
       "      <th></th>\n",
       "      <th>ProductName</th>\n",
       "      <th>ActualPrice</th>\n",
       "      <th>Rating</th>\n",
       "      <th>Category</th>\n",
       "      <th>SpecialPrice</th>\n",
       "      <th>Discount</th>\n",
       "      <th>IsAvailable</th>\n",
       "      <th>Platform</th>\n",
       "    </tr>\n",
       "  </thead>\n",
       "  <tbody>\n",
       "    <tr>\n",
       "      <th>0</th>\n",
       "      <td>premia jeera : 100 gms</td>\n",
       "      <td>32.0</td>\n",
       "      <td>0.0</td>\n",
       "      <td>Beverages</td>\n",
       "      <td>27.0</td>\n",
       "      <td>5.0</td>\n",
       "      <td>True</td>\n",
       "      <td>Dmart</td>\n",
       "    </tr>\n",
       "    <tr>\n",
       "      <th>1</th>\n",
       "      <td>premia dry coconut : 200 gms</td>\n",
       "      <td>87.0</td>\n",
       "      <td>0.0</td>\n",
       "      <td>Beverages</td>\n",
       "      <td>60.0</td>\n",
       "      <td>27.0</td>\n",
       "      <td>True</td>\n",
       "      <td>Dmart</td>\n",
       "    </tr>\n",
       "    <tr>\n",
       "      <th>2</th>\n",
       "      <td>premia til white : 100 gms</td>\n",
       "      <td>31.0</td>\n",
       "      <td>0.0</td>\n",
       "      <td>Beverages</td>\n",
       "      <td>25.0</td>\n",
       "      <td>6.0</td>\n",
       "      <td>True</td>\n",
       "      <td>Dmart</td>\n",
       "    </tr>\n",
       "    <tr>\n",
       "      <th>3</th>\n",
       "      <td>everest garam masala : 100 gms</td>\n",
       "      <td>78.0</td>\n",
       "      <td>0.0</td>\n",
       "      <td>Beverages</td>\n",
       "      <td>72.0</td>\n",
       "      <td>6.0</td>\n",
       "      <td>True</td>\n",
       "      <td>Dmart</td>\n",
       "    </tr>\n",
       "    <tr>\n",
       "      <th>4</th>\n",
       "      <td>everest pav bhaji masala : 100 gms</td>\n",
       "      <td>66.0</td>\n",
       "      <td>0.0</td>\n",
       "      <td>Beverages</td>\n",
       "      <td>61.0</td>\n",
       "      <td>5.0</td>\n",
       "      <td>True</td>\n",
       "      <td>Dmart</td>\n",
       "    </tr>\n",
       "  </tbody>\n",
       "</table>\n",
       "</div>"
      ],
      "text/plain": [
       "                          ProductName  ActualPrice  Rating   Category  \\\n",
       "0              premia jeera : 100 gms         32.0     0.0  Beverages   \n",
       "1        premia dry coconut : 200 gms         87.0     0.0  Beverages   \n",
       "2          premia til white : 100 gms         31.0     0.0  Beverages   \n",
       "3      everest garam masala : 100 gms         78.0     0.0  Beverages   \n",
       "4  everest pav bhaji masala : 100 gms         66.0     0.0  Beverages   \n",
       "\n",
       "   SpecialPrice  Discount IsAvailable Platform  \n",
       "0          27.0       5.0        True    Dmart  \n",
       "1          60.0      27.0        True    Dmart  \n",
       "2          25.0       6.0        True    Dmart  \n",
       "3          72.0       6.0        True    Dmart  \n",
       "4          61.0       5.0        True    Dmart  "
      ]
     },
     "execution_count": 83,
     "metadata": {},
     "output_type": "execute_result"
    }
   ],
   "source": [
    "df_all_platforms[df_all_platforms['Platform'] == CONST_PLATFORM_DMART ].head()"
   ]
  },
  {
   "cell_type": "code",
   "execution_count": 84,
   "metadata": {},
   "outputs": [
    {
     "data": {
      "text/html": [
       "<div>\n",
       "<style scoped>\n",
       "    .dataframe tbody tr th:only-of-type {\n",
       "        vertical-align: middle;\n",
       "    }\n",
       "\n",
       "    .dataframe tbody tr th {\n",
       "        vertical-align: top;\n",
       "    }\n",
       "\n",
       "    .dataframe thead th {\n",
       "        text-align: right;\n",
       "    }\n",
       "</style>\n",
       "<table border=\"1\" class=\"dataframe\">\n",
       "  <thead>\n",
       "    <tr style=\"text-align: right;\">\n",
       "      <th></th>\n",
       "      <th>ProductName</th>\n",
       "      <th>ActualPrice</th>\n",
       "      <th>Rating</th>\n",
       "      <th>Category</th>\n",
       "      <th>SpecialPrice</th>\n",
       "      <th>Discount</th>\n",
       "      <th>IsAvailable</th>\n",
       "      <th>Platform</th>\n",
       "    </tr>\n",
       "  </thead>\n",
       "  <tbody>\n",
       "    <tr>\n",
       "      <th>0</th>\n",
       "      <td>sinew nutrition green coffee beans (250g x 4 pc) for we...</td>\n",
       "      <td>1996.0</td>\n",
       "      <td>4.0</td>\n",
       "      <td>coffee</td>\n",
       "      <td>683.0</td>\n",
       "      <td>65.0</td>\n",
       "      <td>False</td>\n",
       "      <td>Flipkart</td>\n",
       "    </tr>\n",
       "    <tr>\n",
       "      <th>1</th>\n",
       "      <td>nescafe gold blend crafted with arabica ground 10 time ...</td>\n",
       "      <td>1299.0</td>\n",
       "      <td>0.0</td>\n",
       "      <td>coffee</td>\n",
       "      <td>945.0</td>\n",
       "      <td>27.0</td>\n",
       "      <td>False</td>\n",
       "      <td>Flipkart</td>\n",
       "    </tr>\n",
       "    <tr>\n",
       "      <th>2</th>\n",
       "      <td>enaliv organic premium aaa grade green coffee for detox...</td>\n",
       "      <td>299.0</td>\n",
       "      <td>4.1</td>\n",
       "      <td>coffee</td>\n",
       "      <td>199.0</td>\n",
       "      <td>33.0</td>\n",
       "      <td>False</td>\n",
       "      <td>Flipkart</td>\n",
       "    </tr>\n",
       "    <tr>\n",
       "      <th>3</th>\n",
       "      <td>neuherbs green coffee beans for weight loss management ...</td>\n",
       "      <td>578.0</td>\n",
       "      <td>4.0</td>\n",
       "      <td>coffee</td>\n",
       "      <td>349.0</td>\n",
       "      <td>39.0</td>\n",
       "      <td>False</td>\n",
       "      <td>Flipkart</td>\n",
       "    </tr>\n",
       "    <tr>\n",
       "      <th>4</th>\n",
       "      <td>vedaneq green coffee beans weight loss unroasted arabic...</td>\n",
       "      <td>799.0</td>\n",
       "      <td>4.0</td>\n",
       "      <td>coffee</td>\n",
       "      <td>118.0</td>\n",
       "      <td>85.0</td>\n",
       "      <td>False</td>\n",
       "      <td>Flipkart</td>\n",
       "    </tr>\n",
       "  </tbody>\n",
       "</table>\n",
       "</div>"
      ],
      "text/plain": [
       "                                                  ProductName  ActualPrice  \\\n",
       "0  sinew nutrition green coffee beans (250g x 4 pc) for we...       1996.0   \n",
       "1  nescafe gold blend crafted with arabica ground 10 time ...       1299.0   \n",
       "2  enaliv organic premium aaa grade green coffee for detox...        299.0   \n",
       "3  neuherbs green coffee beans for weight loss management ...        578.0   \n",
       "4  vedaneq green coffee beans weight loss unroasted arabic...        799.0   \n",
       "\n",
       "   Rating Category  SpecialPrice  Discount IsAvailable  Platform  \n",
       "0     4.0   coffee         683.0      65.0       False  Flipkart  \n",
       "1     0.0   coffee         945.0      27.0       False  Flipkart  \n",
       "2     4.1   coffee         199.0      33.0       False  Flipkart  \n",
       "3     4.0   coffee         349.0      39.0       False  Flipkart  \n",
       "4     4.0   coffee         118.0      85.0       False  Flipkart  "
      ]
     },
     "execution_count": 84,
     "metadata": {},
     "output_type": "execute_result"
    }
   ],
   "source": [
    "df_all_platforms[df_all_platforms['Platform'] == CONST_PLATFORM_FLIPKART ].head()"
   ]
  },
  {
   "cell_type": "markdown",
   "metadata": {},
   "source": [
    "<h2 align=\"center\" style=\"background-color:yellow;\">(D) EXPLORATORY DATA ANALYSIS AND RECOMMENDATION</h2>"
   ]
  },
  {
   "cell_type": "code",
   "execution_count": 85,
   "metadata": {},
   "outputs": [
    {
     "data": {
      "text/html": [
       "<div>\n",
       "<style scoped>\n",
       "    .dataframe tbody tr th:only-of-type {\n",
       "        vertical-align: middle;\n",
       "    }\n",
       "\n",
       "    .dataframe tbody tr th {\n",
       "        vertical-align: top;\n",
       "    }\n",
       "\n",
       "    .dataframe thead th {\n",
       "        text-align: right;\n",
       "    }\n",
       "</style>\n",
       "<table border=\"1\" class=\"dataframe\">\n",
       "  <thead>\n",
       "    <tr style=\"text-align: right;\">\n",
       "      <th></th>\n",
       "      <th>ProductName</th>\n",
       "      <th>ActualPrice</th>\n",
       "      <th>Rating</th>\n",
       "      <th>Category</th>\n",
       "      <th>SpecialPrice</th>\n",
       "      <th>Discount</th>\n",
       "      <th>IsAvailable</th>\n",
       "      <th>Platform</th>\n",
       "    </tr>\n",
       "  </thead>\n",
       "  <tbody>\n",
       "    <tr>\n",
       "      <th>17</th>\n",
       "      <td>zenulife premium quality organic green coffee beans pow...</td>\n",
       "      <td>598.0</td>\n",
       "      <td>3.7</td>\n",
       "      <td>coffee</td>\n",
       "      <td>179.0</td>\n",
       "      <td>70.0</td>\n",
       "      <td>False</td>\n",
       "      <td>Flipkart</td>\n",
       "    </tr>\n",
       "    <tr>\n",
       "      <th>10584</th>\n",
       "      <td>vihado 100% natural green coffee bean powder for weight...</td>\n",
       "      <td>747.0</td>\n",
       "      <td>3.7</td>\n",
       "      <td>coffee</td>\n",
       "      <td>247.0</td>\n",
       "      <td>66.0</td>\n",
       "      <td>False</td>\n",
       "      <td>Flipkart</td>\n",
       "    </tr>\n",
       "    <tr>\n",
       "      <th>10587</th>\n",
       "      <td>vihado green coffee beans powder for weight management ...</td>\n",
       "      <td>2697.0</td>\n",
       "      <td>3.7</td>\n",
       "      <td>coffee</td>\n",
       "      <td>1419.0</td>\n",
       "      <td>47.0</td>\n",
       "      <td>False</td>\n",
       "      <td>Flipkart</td>\n",
       "    </tr>\n",
       "    <tr>\n",
       "      <th>10870</th>\n",
       "      <td>vihado organic green coffee beans powder for weight los...</td>\n",
       "      <td>1398.0</td>\n",
       "      <td>3.7</td>\n",
       "      <td>coffee</td>\n",
       "      <td>555.0</td>\n",
       "      <td>60.0</td>\n",
       "      <td>False</td>\n",
       "      <td>Flipkart</td>\n",
       "    </tr>\n",
       "    <tr>\n",
       "      <th>25953</th>\n",
       "      <td>vihado organic green coffee beans powder for weight man...</td>\n",
       "      <td>498.0</td>\n",
       "      <td>3.8</td>\n",
       "      <td>coffee</td>\n",
       "      <td>197.0</td>\n",
       "      <td>60.0</td>\n",
       "      <td>False</td>\n",
       "      <td>Flipkart</td>\n",
       "    </tr>\n",
       "  </tbody>\n",
       "</table>\n",
       "</div>"
      ],
      "text/plain": [
       "                                                      ProductName  \\\n",
       "17     zenulife premium quality organic green coffee beans pow...   \n",
       "10584  vihado 100% natural green coffee bean powder for weight...   \n",
       "10587  vihado green coffee beans powder for weight management ...   \n",
       "10870  vihado organic green coffee beans powder for weight los...   \n",
       "25953  vihado organic green coffee beans powder for weight man...   \n",
       "\n",
       "       ActualPrice  Rating Category  SpecialPrice  Discount IsAvailable  \\\n",
       "17           598.0     3.7   coffee         179.0      70.0       False   \n",
       "10584        747.0     3.7   coffee         247.0      66.0       False   \n",
       "10587       2697.0     3.7   coffee        1419.0      47.0       False   \n",
       "10870       1398.0     3.7   coffee         555.0      60.0       False   \n",
       "25953        498.0     3.8   coffee         197.0      60.0       False   \n",
       "\n",
       "       Platform  \n",
       "17     Flipkart  \n",
       "10584  Flipkart  \n",
       "10587  Flipkart  \n",
       "10870  Flipkart  \n",
       "25953  Flipkart  "
      ]
     },
     "execution_count": 85,
     "metadata": {},
     "output_type": "execute_result"
    }
   ],
   "source": [
    "df_all_platforms[(df_all_platforms.duplicated(['ProductName'])) & (df_all_platforms['Platform'] == CONST_PLATFORM_FLIPKART)]"
   ]
  },
  {
   "cell_type": "code",
   "execution_count": 86,
   "metadata": {},
   "outputs": [
    {
     "data": {
      "text/html": [
       "<div>\n",
       "<style scoped>\n",
       "    .dataframe tbody tr th:only-of-type {\n",
       "        vertical-align: middle;\n",
       "    }\n",
       "\n",
       "    .dataframe tbody tr th {\n",
       "        vertical-align: top;\n",
       "    }\n",
       "\n",
       "    .dataframe thead th {\n",
       "        text-align: right;\n",
       "    }\n",
       "</style>\n",
       "<table border=\"1\" class=\"dataframe\">\n",
       "  <thead>\n",
       "    <tr style=\"text-align: right;\">\n",
       "      <th></th>\n",
       "      <th>ProductName</th>\n",
       "      <th>ActualPrice</th>\n",
       "      <th>Rating</th>\n",
       "      <th>Category</th>\n",
       "      <th>SpecialPrice</th>\n",
       "      <th>Discount</th>\n",
       "      <th>IsAvailable</th>\n",
       "      <th>Platform</th>\n",
       "    </tr>\n",
       "  </thead>\n",
       "  <tbody>\n",
       "    <tr>\n",
       "      <th>515</th>\n",
       "      <td>bru instant coffee, 100g</td>\n",
       "      <td>450.0</td>\n",
       "      <td>4.4</td>\n",
       "      <td>Coffee, Tea &amp; Beverages</td>\n",
       "      <td>450.0</td>\n",
       "      <td>0.0</td>\n",
       "      <td>True</td>\n",
       "      <td>Amazon</td>\n",
       "    </tr>\n",
       "    <tr>\n",
       "      <th>10338</th>\n",
       "      <td>tata salt, 1kg</td>\n",
       "      <td>158.0</td>\n",
       "      <td>4.6</td>\n",
       "      <td>Cooking &amp; Baking Supplies</td>\n",
       "      <td>158.0</td>\n",
       "      <td>0.0</td>\n",
       "      <td>True</td>\n",
       "      <td>Amazon</td>\n",
       "    </tr>\n",
       "    <tr>\n",
       "      <th>39996</th>\n",
       "      <td>cadbury dairy milk chocolate shots, 208.8 gm carton (58 units x 3.6 gm)</td>\n",
       "      <td>289.0</td>\n",
       "      <td>4.5</td>\n",
       "      <td>Chocolates &amp; Sweets</td>\n",
       "      <td>289.0</td>\n",
       "      <td>0.0</td>\n",
       "      <td>True</td>\n",
       "      <td>Amazon</td>\n",
       "    </tr>\n",
       "  </tbody>\n",
       "</table>\n",
       "</div>"
      ],
      "text/plain": [
       "                                                                   ProductName  \\\n",
       "515                                                   bru instant coffee, 100g   \n",
       "10338                                                           tata salt, 1kg   \n",
       "39996  cadbury dairy milk chocolate shots, 208.8 gm carton (58 units x 3.6 gm)   \n",
       "\n",
       "       ActualPrice  Rating                   Category  SpecialPrice  Discount  \\\n",
       "515          450.0     4.4    Coffee, Tea & Beverages         450.0       0.0   \n",
       "10338        158.0     4.6  Cooking & Baking Supplies         158.0       0.0   \n",
       "39996        289.0     4.5        Chocolates & Sweets         289.0       0.0   \n",
       "\n",
       "      IsAvailable Platform  \n",
       "515          True   Amazon  \n",
       "10338        True   Amazon  \n",
       "39996        True   Amazon  "
      ]
     },
     "execution_count": 86,
     "metadata": {},
     "output_type": "execute_result"
    }
   ],
   "source": [
    "df_all_platforms[(df_all_platforms.duplicated(['ProductName'])) & (df_all_platforms['Platform'] == CONST_PLATFORM_AMAZON)]"
   ]
  },
  {
   "cell_type": "code",
   "execution_count": 87,
   "metadata": {},
   "outputs": [
    {
     "data": {
      "text/plain": [
       "(2563, 8)"
      ]
     },
     "execution_count": 87,
     "metadata": {},
     "output_type": "execute_result"
    }
   ],
   "source": [
    "df_all_platforms.shape"
   ]
  },
  {
   "cell_type": "code",
   "execution_count": 88,
   "metadata": {},
   "outputs": [
    {
     "name": "stdout",
     "output_type": "stream",
     "text": [
      "<class 'pandas.core.frame.DataFrame'>\n",
      "Int64Index: 2563 entries, 0 to 42002\n",
      "Data columns (total 8 columns):\n",
      " #   Column        Non-Null Count  Dtype  \n",
      "---  ------        --------------  -----  \n",
      " 0   ProductName   2562 non-null   object \n",
      " 1   ActualPrice   2463 non-null   float64\n",
      " 2   Rating        2563 non-null   float64\n",
      " 3   Category      2563 non-null   object \n",
      " 4   SpecialPrice  2563 non-null   float64\n",
      " 5   Discount      2449 non-null   float64\n",
      " 6   IsAvailable   2563 non-null   object \n",
      " 7   Platform      2563 non-null   object \n",
      "dtypes: float64(4), object(4)\n",
      "memory usage: 180.2+ KB\n"
     ]
    }
   ],
   "source": [
    "df_all_platforms.info()"
   ]
  },
  {
   "cell_type": "code",
   "execution_count": 89,
   "metadata": {},
   "outputs": [
    {
     "data": {
      "text/html": [
       "<div>\n",
       "<style scoped>\n",
       "    .dataframe tbody tr th:only-of-type {\n",
       "        vertical-align: middle;\n",
       "    }\n",
       "\n",
       "    .dataframe tbody tr th {\n",
       "        vertical-align: top;\n",
       "    }\n",
       "\n",
       "    .dataframe thead th {\n",
       "        text-align: right;\n",
       "    }\n",
       "</style>\n",
       "<table border=\"1\" class=\"dataframe\">\n",
       "  <thead>\n",
       "    <tr style=\"text-align: right;\">\n",
       "      <th></th>\n",
       "      <th>ActualPrice</th>\n",
       "      <th>Rating</th>\n",
       "      <th>SpecialPrice</th>\n",
       "      <th>Discount</th>\n",
       "    </tr>\n",
       "  </thead>\n",
       "  <tbody>\n",
       "    <tr>\n",
       "      <th>count</th>\n",
       "      <td>2463.000000</td>\n",
       "      <td>2563.000000</td>\n",
       "      <td>2563.000000</td>\n",
       "      <td>2449.000000</td>\n",
       "    </tr>\n",
       "    <tr>\n",
       "      <th>mean</th>\n",
       "      <td>468.335035</td>\n",
       "      <td>2.963207</td>\n",
       "      <td>351.859821</td>\n",
       "      <td>17.012887</td>\n",
       "    </tr>\n",
       "    <tr>\n",
       "      <th>std</th>\n",
       "      <td>646.351959</td>\n",
       "      <td>1.909273</td>\n",
       "      <td>416.209901</td>\n",
       "      <td>42.466661</td>\n",
       "    </tr>\n",
       "    <tr>\n",
       "      <th>min</th>\n",
       "      <td>3.000000</td>\n",
       "      <td>0.000000</td>\n",
       "      <td>3.000000</td>\n",
       "      <td>0.000000</td>\n",
       "    </tr>\n",
       "    <tr>\n",
       "      <th>25%</th>\n",
       "      <td>135.000000</td>\n",
       "      <td>0.000000</td>\n",
       "      <td>125.000000</td>\n",
       "      <td>0.000000</td>\n",
       "    </tr>\n",
       "    <tr>\n",
       "      <th>50%</th>\n",
       "      <td>285.000000</td>\n",
       "      <td>4.100000</td>\n",
       "      <td>240.000000</td>\n",
       "      <td>5.000000</td>\n",
       "    </tr>\n",
       "    <tr>\n",
       "      <th>75%</th>\n",
       "      <td>525.000000</td>\n",
       "      <td>4.300000</td>\n",
       "      <td>414.000000</td>\n",
       "      <td>27.000000</td>\n",
       "    </tr>\n",
       "    <tr>\n",
       "      <th>max</th>\n",
       "      <td>7998.000000</td>\n",
       "      <td>5.000000</td>\n",
       "      <td>4495.000000</td>\n",
       "      <td>1389.000000</td>\n",
       "    </tr>\n",
       "  </tbody>\n",
       "</table>\n",
       "</div>"
      ],
      "text/plain": [
       "       ActualPrice       Rating  SpecialPrice     Discount\n",
       "count  2463.000000  2563.000000   2563.000000  2449.000000\n",
       "mean    468.335035     2.963207    351.859821    17.012887\n",
       "std     646.351959     1.909273    416.209901    42.466661\n",
       "min       3.000000     0.000000      3.000000     0.000000\n",
       "25%     135.000000     0.000000    125.000000     0.000000\n",
       "50%     285.000000     4.100000    240.000000     5.000000\n",
       "75%     525.000000     4.300000    414.000000    27.000000\n",
       "max    7998.000000     5.000000   4495.000000  1389.000000"
      ]
     },
     "execution_count": 89,
     "metadata": {},
     "output_type": "execute_result"
    }
   ],
   "source": [
    "df_all_platforms.describe()"
   ]
  },
  {
   "cell_type": "code",
   "execution_count": 90,
   "metadata": {},
   "outputs": [
    {
     "data": {
      "text/html": [
       "<div>\n",
       "<style scoped>\n",
       "    .dataframe tbody tr th:only-of-type {\n",
       "        vertical-align: middle;\n",
       "    }\n",
       "\n",
       "    .dataframe tbody tr th {\n",
       "        vertical-align: top;\n",
       "    }\n",
       "\n",
       "    .dataframe thead th {\n",
       "        text-align: right;\n",
       "    }\n",
       "</style>\n",
       "<table border=\"1\" class=\"dataframe\">\n",
       "  <thead>\n",
       "    <tr style=\"text-align: right;\">\n",
       "      <th></th>\n",
       "      <th>ProductName</th>\n",
       "      <th>ActualPrice</th>\n",
       "      <th>Rating</th>\n",
       "      <th>Category</th>\n",
       "      <th>SpecialPrice</th>\n",
       "      <th>Discount</th>\n",
       "      <th>IsAvailable</th>\n",
       "      <th>Platform</th>\n",
       "    </tr>\n",
       "  </thead>\n",
       "  <tbody>\n",
       "    <tr>\n",
       "      <th>7858</th>\n",
       "      <td>truefarm red rajma (whole)</td>\n",
       "      <td>NaN</td>\n",
       "      <td>4.2</td>\n",
       "      <td>grocery</td>\n",
       "      <td>320.0</td>\n",
       "      <td>NaN</td>\n",
       "      <td>False</td>\n",
       "      <td>Flipkart</td>\n",
       "    </tr>\n",
       "    <tr>\n",
       "      <th>298</th>\n",
       "      <td>mtr breakfast mix dosa, 500g</td>\n",
       "      <td>103.0</td>\n",
       "      <td>4.1</td>\n",
       "      <td>Ready To Eat &amp; Cook</td>\n",
       "      <td>103.0</td>\n",
       "      <td>0.0</td>\n",
       "      <td>True</td>\n",
       "      <td>Amazon</td>\n",
       "    </tr>\n",
       "    <tr>\n",
       "      <th>509</th>\n",
       "      <td>ojas foods dried cranberries pack of 5 (150gm each) cra...</td>\n",
       "      <td>1250.0</td>\n",
       "      <td>0.0</td>\n",
       "      <td>grocery</td>\n",
       "      <td>680.0</td>\n",
       "      <td>45.0</td>\n",
       "      <td>False</td>\n",
       "      <td>Flipkart</td>\n",
       "    </tr>\n",
       "    <tr>\n",
       "      <th>55</th>\n",
       "      <td>herbalvibe green coffee beans powder for weight loss ma...</td>\n",
       "      <td>1650.0</td>\n",
       "      <td>4.0</td>\n",
       "      <td>coffee</td>\n",
       "      <td>598.0</td>\n",
       "      <td>63.0</td>\n",
       "      <td>False</td>\n",
       "      <td>Flipkart</td>\n",
       "    </tr>\n",
       "    <tr>\n",
       "      <th>10830</th>\n",
       "      <td>tegut green coffee beans for weight loss (500 g) instan...</td>\n",
       "      <td>649.0</td>\n",
       "      <td>0.0</td>\n",
       "      <td>coffee</td>\n",
       "      <td>519.0</td>\n",
       "      <td>20.0</td>\n",
       "      <td>False</td>\n",
       "      <td>Flipkart</td>\n",
       "    </tr>\n",
       "    <tr>\n",
       "      <th>310</th>\n",
       "      <td>cadbury choclairs gold home pack (25 candies), 137.5 g</td>\n",
       "      <td>50.0</td>\n",
       "      <td>4.5</td>\n",
       "      <td>Chocolates &amp; Sweets</td>\n",
       "      <td>50.0</td>\n",
       "      <td>0.0</td>\n",
       "      <td>True</td>\n",
       "      <td>Amazon</td>\n",
       "    </tr>\n",
       "    <tr>\n",
       "      <th>16</th>\n",
       "      <td>sunrise coffee - extra</td>\n",
       "      <td>680.0</td>\n",
       "      <td>3.9</td>\n",
       "      <td>Beverages</td>\n",
       "      <td>680.0</td>\n",
       "      <td>0.0</td>\n",
       "      <td>True</td>\n",
       "      <td>BigBasket</td>\n",
       "    </tr>\n",
       "    <tr>\n",
       "      <th>25303</th>\n",
       "      <td>zaza mustard oil mustard oil plastic bottle</td>\n",
       "      <td>600.0</td>\n",
       "      <td>0.0</td>\n",
       "      <td>grocery 1 rs offer all</td>\n",
       "      <td>597.0</td>\n",
       "      <td>NaN</td>\n",
       "      <td>False</td>\n",
       "      <td>Flipkart</td>\n",
       "    </tr>\n",
       "    <tr>\n",
       "      <th>75</th>\n",
       "      <td>udyan tea tropical passion iced tea, (20 cups) hibiscus...</td>\n",
       "      <td>NaN</td>\n",
       "      <td>4.7</td>\n",
       "      <td>tea</td>\n",
       "      <td>599.0</td>\n",
       "      <td>NaN</td>\n",
       "      <td>False</td>\n",
       "      <td>Flipkart</td>\n",
       "    </tr>\n",
       "    <tr>\n",
       "      <th>25667</th>\n",
       "      <td>twinings of london prince of wales since 1706 tea impor...</td>\n",
       "      <td>699.0</td>\n",
       "      <td>4.5</td>\n",
       "      <td>beverages in tea</td>\n",
       "      <td>525.0</td>\n",
       "      <td>24.0</td>\n",
       "      <td>False</td>\n",
       "      <td>Flipkart</td>\n",
       "    </tr>\n",
       "  </tbody>\n",
       "</table>\n",
       "</div>"
      ],
      "text/plain": [
       "                                                      ProductName  \\\n",
       "7858                                   truefarm red rajma (whole)   \n",
       "298                                  mtr breakfast mix dosa, 500g   \n",
       "509    ojas foods dried cranberries pack of 5 (150gm each) cra...   \n",
       "55     herbalvibe green coffee beans powder for weight loss ma...   \n",
       "10830  tegut green coffee beans for weight loss (500 g) instan...   \n",
       "310        cadbury choclairs gold home pack (25 candies), 137.5 g   \n",
       "16                                         sunrise coffee - extra   \n",
       "25303                 zaza mustard oil mustard oil plastic bottle   \n",
       "75     udyan tea tropical passion iced tea, (20 cups) hibiscus...   \n",
       "25667  twinings of london prince of wales since 1706 tea impor...   \n",
       "\n",
       "       ActualPrice  Rating                Category  SpecialPrice  Discount  \\\n",
       "7858           NaN     4.2                 grocery         320.0       NaN   \n",
       "298          103.0     4.1     Ready To Eat & Cook         103.0       0.0   \n",
       "509         1250.0     0.0                 grocery         680.0      45.0   \n",
       "55          1650.0     4.0                  coffee         598.0      63.0   \n",
       "10830        649.0     0.0                  coffee         519.0      20.0   \n",
       "310           50.0     4.5     Chocolates & Sweets          50.0       0.0   \n",
       "16           680.0     3.9               Beverages         680.0       0.0   \n",
       "25303        600.0     0.0  grocery 1 rs offer all         597.0       NaN   \n",
       "75             NaN     4.7                     tea         599.0       NaN   \n",
       "25667        699.0     4.5        beverages in tea         525.0      24.0   \n",
       "\n",
       "      IsAvailable   Platform  \n",
       "7858        False   Flipkart  \n",
       "298          True     Amazon  \n",
       "509         False   Flipkart  \n",
       "55          False   Flipkart  \n",
       "10830       False   Flipkart  \n",
       "310          True     Amazon  \n",
       "16           True  BigBasket  \n",
       "25303       False   Flipkart  \n",
       "75          False   Flipkart  \n",
       "25667       False   Flipkart  "
      ]
     },
     "execution_count": 90,
     "metadata": {},
     "output_type": "execute_result"
    }
   ],
   "source": [
    "df_all_platforms.sample(10)"
   ]
  },
  {
   "cell_type": "code",
   "execution_count": 91,
   "metadata": {},
   "outputs": [
    {
     "data": {
      "text/plain": [
       "<seaborn.axisgrid.JointGrid at 0x7f82084d1c10>"
      ]
     },
     "execution_count": 91,
     "metadata": {},
     "output_type": "execute_result"
    },
    {
     "data": {
      "image/png": "[encoded data removed]",
      "text/plain": [
       "<Figure size 432x432 with 3 Axes>"
      ]
     },
     "metadata": {
      "needs_background": "light"
     },
     "output_type": "display_data"
    }
   ],
   "source": [
    "sns.jointplot(x=\"ActualPrice\", y=\"SpecialPrice\",kind=\"reg\", data=df_all_platforms)"
   ]
  },
  {
   "cell_type": "code",
   "execution_count": 92,
   "metadata": {},
   "outputs": [
    {
     "data": {
      "text/plain": [
       "array([[<matplotlib.axes._subplots.AxesSubplot object at 0x7f82084d13d0>,\n",
       "        <matplotlib.axes._subplots.AxesSubplot object at 0x7f82081909d0>],\n",
       "       [<matplotlib.axes._subplots.AxesSubplot object at 0x7f82081a5b90>,\n",
       "        <matplotlib.axes._subplots.AxesSubplot object at 0x7f8208152710>]],\n",
       "      dtype=object)"
      ]
     },
     "execution_count": 92,
     "metadata": {},
     "output_type": "execute_result"
    },
    {
     "data": {
      "image/png": "[encoded data removed]",
      "text/plain": [
       "<Figure size 720x720 with 4 Axes>"
      ]
     },
     "metadata": {
      "needs_background": "light"
     },
     "output_type": "display_data"
    }
   ],
   "source": [
    "# checking the frequency distribution\n",
    "df_all_platforms.hist(figsize=(10,10))"
   ]
  },
  {
   "cell_type": "code",
   "execution_count": 93,
   "metadata": {},
   "outputs": [
    {
     "data": {
      "text/plain": [
       "<seaborn.axisgrid.PairGrid at 0x7f81f8e57790>"
      ]
     },
     "execution_count": 93,
     "metadata": {},
     "output_type": "execute_result"
    },
    {
     "data": {
      "image/png": "[encoded data removed]",
      "text/plain": [
       "<Figure size 720x720 with 20 Axes>"
      ]
     },
     "metadata": {
      "needs_background": "light"
     },
     "output_type": "display_data"
    }
   ],
   "source": [
    "# For each pair of features (columns) in the dataset, we can visualize the scatter plot for each pair \n",
    "# along with the feature’s histogram along the diagonal\n",
    "sns.pairplot(df_all_platforms[['ActualPrice','Rating','SpecialPrice','Discount']])"
   ]
  },
  {
   "cell_type": "code",
   "execution_count": 94,
   "metadata": {},
   "outputs": [
    {
     "data": {
      "text/plain": [
       "<matplotlib.axes._subplots.AxesSubplot at 0x7f82097d2150>"
      ]
     },
     "execution_count": 94,
     "metadata": {},
     "output_type": "execute_result"
    },
    {
     "data": {
      "image/png": "[encoded data removed]",
      "text/plain": [
       "<Figure size 720x504 with 2 Axes>"
      ]
     },
     "metadata": {
      "needs_background": "light"
     },
     "output_type": "display_data"
    }
   ],
   "source": [
    "corr = df_all_platforms.corr()\n",
    "fig = plt.figure(figsize=(10,7))\n",
    "sns.heatmap(corr, xticklabels=corr.columns, yticklabels=corr.columns, annot=True)"
   ]
  },
  {
   "cell_type": "code",
   "execution_count": 95,
   "metadata": {},
   "outputs": [
    {
     "data": {
      "image/png": "[encoded data removed]",
      "text/plain": [
       "<Figure size 720x504 with 1 Axes>"
      ]
     },
     "metadata": {
      "needs_background": "light"
     },
     "output_type": "display_data"
    }
   ],
   "source": [
    "fig = plt.figure(figsize=(10,7))\n",
    "sns.set()\n",
    "ax = sns.countplot(x=\"Platform\", data=df_all_platforms)"
   ]
  },
  {
   "cell_type": "code",
   "execution_count": 96,
   "metadata": {},
   "outputs": [
    {
     "data": {
      "text/plain": [
       "ProductName      True\n",
       "ActualPrice      True\n",
       "Rating          False\n",
       "Category        False\n",
       "SpecialPrice    False\n",
       "Discount         True\n",
       "IsAvailable     False\n",
       "Platform        False\n",
       "dtype: bool"
      ]
     },
     "execution_count": 96,
     "metadata": {},
     "output_type": "execute_result"
    }
   ],
   "source": [
    "df_all_platforms.isna().any()"
   ]
  },
  {
   "cell_type": "code",
   "execution_count": 97,
   "metadata": {},
   "outputs": [
    {
     "data": {
      "text/plain": [
       "ProductName       1\n",
       "ActualPrice     100\n",
       "Rating            0\n",
       "Category          0\n",
       "SpecialPrice      0\n",
       "Discount        114\n",
       "IsAvailable       0\n",
       "Platform          0\n",
       "dtype: int64"
      ]
     },
     "execution_count": 97,
     "metadata": {},
     "output_type": "execute_result"
    }
   ],
   "source": [
    "df_all_platforms.isna().sum()"
   ]
  },
  {
   "cell_type": "code",
   "execution_count": 98,
   "metadata": {},
   "outputs": [
    {
     "data": {
      "text/plain": [
       "215"
      ]
     },
     "execution_count": 98,
     "metadata": {},
     "output_type": "execute_result"
    }
   ],
   "source": [
    "df_all_platforms.isna().sum().sum()"
   ]
  },
  {
   "cell_type": "code",
   "execution_count": 99,
   "metadata": {},
   "outputs": [
    {
     "data": {
      "image/png": "[encoded data removed]",
      "text/plain": [
       "<Figure size 1440x864 with 1 Axes>"
      ]
     },
     "metadata": {},
     "output_type": "display_data"
    }
   ],
   "source": [
    "fig = plt.figure(figsize=(20,12))\n",
    "ax = sns.countplot(x=\"Category\", data=df_all_platforms)\n",
    "ax.set_xticklabels(ax.get_xticklabels(), rotation=40, ha=\"right\")\n",
    "plt.tight_layout()\n",
    "plt.show()"
   ]
  },
  {
   "cell_type": "code",
   "execution_count": 100,
   "metadata": {},
   "outputs": [
    {
     "data": {
      "text/plain": [
       "<matplotlib.axes._subplots.AxesSubplot at 0x7f8203a65290>"
      ]
     },
     "execution_count": 100,
     "metadata": {},
     "output_type": "execute_result"
    },
    {
     "data": {
      "image/png": "[encoded data removed]",
      "text/plain": [
       "<Figure size 1080x720 with 1 Axes>"
      ]
     },
     "metadata": {},
     "output_type": "display_data"
    }
   ],
   "source": [
    "fig = plt.figure(figsize=(15,10))\n",
    "df_all_platforms['Category'].value_counts().T.plot(kind='bar', stacked=True)"
   ]
  },
  {
   "cell_type": "code",
   "execution_count": 101,
   "metadata": {},
   "outputs": [],
   "source": [
    "def search(sender):\n",
    "    ''' recomending user based on special price and ratings. '''\n",
    "    search_item = sender.value.lower()\n",
    "    df_filtered = df_all_platforms[df_all_platforms['ProductName'].astype(str)\\\n",
    "                   .str.contains(search_item)].sort_values(by=['SpecialPrice'], ascending=[True])\\\n",
    "                .groupby(by=['Platform']).first()\n",
    "    df = df_filtered.sort_values(by=['Rating'], ascending=[False]).copy()\n",
    "    df.reset_index(inplace=True)\n",
    "    df_top_product = df.iloc[0]\n",
    "    msg = str.format('Recommended Platform : {0}', df_top_product.Platform)\n",
    "    print(tabulate([[msg]], tablefmt='fancy_grid'))\n",
    "    display(df)\n",
    "    display(df[['Platform','Rating']].head(4).style.hide_index().highlight_max(color='lightgreen'))\n",
    "    fig = plt.figure(figsize=(10,7))\n",
    "    ax = sns.barplot(x=\"Platform\", y=\"SpecialPrice\", data=df, capsize=.2)"
   ]
  },
  {
   "cell_type": "code",
   "execution_count": 102,
   "metadata": {},
   "outputs": [
    {
     "name": "stdout",
     "output_type": "stream",
     "text": [
      "+---------------------------------------------------------------+\n",
      "| Type the product name in below box and press enter to search. |\n",
      "+---------------------------------------------------------------+\n"
     ]
    },
    {
     "data": {
      "application/vnd.jupyter.widget-view+json": {
       "model_id": "d022ecd537014763accb0dc02725af13",
       "version_major": 2,
       "version_minor": 0
      },
      "text/plain": [
       "Text(value='')"
      ]
     },
     "metadata": {},
     "output_type": "display_data"
    },
    {
     "name": "stdout",
     "output_type": "stream",
     "text": [
      "╒══════════════════════════════════╕\n",
      "│ Recommended Platform : BigBasket │\n",
      "╘══════════════════════════════════╛\n"
     ]
    },
    {
     "data": {
      "text/html": [
       "<div>\n",
       "<style scoped>\n",
       "    .dataframe tbody tr th:only-of-type {\n",
       "        vertical-align: middle;\n",
       "    }\n",
       "\n",
       "    .dataframe tbody tr th {\n",
       "        vertical-align: top;\n",
       "    }\n",
       "\n",
       "    .dataframe thead th {\n",
       "        text-align: right;\n",
       "    }\n",
       "</style>\n",
       "<table border=\"1\" class=\"dataframe\">\n",
       "  <thead>\n",
       "    <tr style=\"text-align: right;\">\n",
       "      <th></th>\n",
       "      <th>Platform</th>\n",
       "      <th>ProductName</th>\n",
       "      <th>ActualPrice</th>\n",
       "      <th>Rating</th>\n",
       "      <th>Category</th>\n",
       "      <th>SpecialPrice</th>\n",
       "      <th>Discount</th>\n",
       "      <th>IsAvailable</th>\n",
       "    </tr>\n",
       "  </thead>\n",
       "  <tbody>\n",
       "    <tr>\n",
       "      <th>0</th>\n",
       "      <td>BigBasket</td>\n",
       "      <td>green tea - tulsi natura</td>\n",
       "      <td>60.0</td>\n",
       "      <td>4.5</td>\n",
       "      <td>Beverages</td>\n",
       "      <td>60.0</td>\n",
       "      <td>0.0</td>\n",
       "      <td>True</td>\n",
       "    </tr>\n",
       "    <tr>\n",
       "      <th>1</th>\n",
       "      <td>Amazon</td>\n",
       "      <td>tetley green tea, ginger, mint and lemon, 100 tea bags</td>\n",
       "      <td>85.0</td>\n",
       "      <td>4.3</td>\n",
       "      <td>Coffee, Tea &amp; Beverages</td>\n",
       "      <td>85.0</td>\n",
       "      <td>0.0</td>\n",
       "      <td>True</td>\n",
       "    </tr>\n",
       "    <tr>\n",
       "      <th>2</th>\n",
       "      <td>Flipkart</td>\n",
       "      <td>onlyleaf 100% natural immunity boosting amla green tea ...</td>\n",
       "      <td>150.0</td>\n",
       "      <td>4.3</td>\n",
       "      <td>tea</td>\n",
       "      <td>110.0</td>\n",
       "      <td>12.0</td>\n",
       "      <td>False</td>\n",
       "    </tr>\n",
       "    <tr>\n",
       "      <th>3</th>\n",
       "      <td>Dmart</td>\n",
       "      <td>tea country original green tea : 25 tea-bags</td>\n",
       "      <td>99.0</td>\n",
       "      <td>0.0</td>\n",
       "      <td>Beverages</td>\n",
       "      <td>59.0</td>\n",
       "      <td>40.0</td>\n",
       "      <td>True</td>\n",
       "    </tr>\n",
       "  </tbody>\n",
       "</table>\n",
       "</div>"
      ],
      "text/plain": [
       "    Platform                                                 ProductName  \\\n",
       "0  BigBasket                                    green tea - tulsi natura   \n",
       "1     Amazon      tetley green tea, ginger, mint and lemon, 100 tea bags   \n",
       "2   Flipkart  onlyleaf 100% natural immunity boosting amla green tea ...   \n",
       "3      Dmart                tea country original green tea : 25 tea-bags   \n",
       "\n",
       "   ActualPrice  Rating                 Category  SpecialPrice  Discount  \\\n",
       "0         60.0     4.5                Beverages          60.0       0.0   \n",
       "1         85.0     4.3  Coffee, Tea & Beverages          85.0       0.0   \n",
       "2        150.0     4.3                      tea         110.0      12.0   \n",
       "3         99.0     0.0                Beverages          59.0      40.0   \n",
       "\n",
       "   IsAvailable  \n",
       "0         True  \n",
       "1         True  \n",
       "2        False  \n",
       "3         True  "
      ]
     },
     "metadata": {},
     "output_type": "display_data"
    },
    {
     "data": {
      "text/html": [
       "<style  type=\"text/css\" >\n",
       "    #T_f7adf688_a8b4_11ea_8cb2_2f583c1dbf85row0_col1 {\n",
       "            background-color:  lightgreen;\n",
       "        }</style><table id=\"T_f7adf688_a8b4_11ea_8cb2_2f583c1dbf85\" ><thead>    <tr>        <th class=\"col_heading level0 col0\" >Platform</th>        <th class=\"col_heading level0 col1\" >Rating</th>    </tr></thead><tbody>\n",
       "                <tr>\n",
       "                                <td id=\"T_f7adf688_a8b4_11ea_8cb2_2f583c1dbf85row0_col0\" class=\"data row0 col0\" >BigBasket</td>\n",
       "                        <td id=\"T_f7adf688_a8b4_11ea_8cb2_2f583c1dbf85row0_col1\" class=\"data row0 col1\" >4.500000</td>\n",
       "            </tr>\n",
       "            <tr>\n",
       "                                <td id=\"T_f7adf688_a8b4_11ea_8cb2_2f583c1dbf85row1_col0\" class=\"data row1 col0\" >Amazon</td>\n",
       "                        <td id=\"T_f7adf688_a8b4_11ea_8cb2_2f583c1dbf85row1_col1\" class=\"data row1 col1\" >4.300000</td>\n",
       "            </tr>\n",
       "            <tr>\n",
       "                                <td id=\"T_f7adf688_a8b4_11ea_8cb2_2f583c1dbf85row2_col0\" class=\"data row2 col0\" >Flipkart</td>\n",
       "                        <td id=\"T_f7adf688_a8b4_11ea_8cb2_2f583c1dbf85row2_col1\" class=\"data row2 col1\" >4.300000</td>\n",
       "            </tr>\n",
       "            <tr>\n",
       "                                <td id=\"T_f7adf688_a8b4_11ea_8cb2_2f583c1dbf85row3_col0\" class=\"data row3 col0\" >Dmart</td>\n",
       "                        <td id=\"T_f7adf688_a8b4_11ea_8cb2_2f583c1dbf85row3_col1\" class=\"data row3 col1\" >0.000000</td>\n",
       "            </tr>\n",
       "    </tbody></table>"
      ],
      "text/plain": [
       "<pandas.io.formats.style.Styler at 0x7f82038f81d0>"
      ]
     },
     "metadata": {},
     "output_type": "display_data"
    },
    {
     "data": {
      "image/png": "[encoded data removed]",
      "text/plain": [
       "<Figure size 720x504 with 1 Axes>"
      ]
     },
     "metadata": {},
     "output_type": "display_data"
    }
   ],
   "source": [
    "# recommending basedon price and ratings\n",
    "text = widgets.Text()\n",
    "print(tabulate([['Type the product name in below box and press enter to search.']], tablefmt='grid'))\n",
    "display(text)\n",
    "text.on_submit(search)"
   ]
  },
  {
   "cell_type": "code",
   "execution_count": 105,
   "metadata": {},
   "outputs": [
    {
     "name": "stdout",
     "output_type": "stream",
     "text": [
      "+---------------------------------------------------------------+\n",
      "| Type the product name in below box and press enter to search. |\n",
      "+---------------------------------------------------------------+\n"
     ]
    },
    {
     "data": {
      "application/vnd.jupyter.widget-view+json": {
       "model_id": "0ddab01f4ab14c7f8e100c09d4d078f1",
       "version_major": 2,
       "version_minor": 0
      },
      "text/plain": [
       "Text(value='')"
      ]
     },
     "metadata": {},
     "output_type": "display_data"
    },
    {
     "name": "stdout",
     "output_type": "stream",
     "text": [
      "╒═══════════════════════════════╕\n",
      "│ Recommended Platform : Amazon │\n",
      "╘═══════════════════════════════╛\n"
     ]
    },
    {
     "data": {
      "text/html": [
       "<div>\n",
       "<style scoped>\n",
       "    .dataframe tbody tr th:only-of-type {\n",
       "        vertical-align: middle;\n",
       "    }\n",
       "\n",
       "    .dataframe tbody tr th {\n",
       "        vertical-align: top;\n",
       "    }\n",
       "\n",
       "    .dataframe thead th {\n",
       "        text-align: right;\n",
       "    }\n",
       "</style>\n",
       "<table border=\"1\" class=\"dataframe\">\n",
       "  <thead>\n",
       "    <tr style=\"text-align: right;\">\n",
       "      <th></th>\n",
       "      <th>Platform</th>\n",
       "      <th>ProductName</th>\n",
       "      <th>ActualPrice</th>\n",
       "      <th>Rating</th>\n",
       "      <th>Category</th>\n",
       "      <th>SpecialPrice</th>\n",
       "      <th>Discount</th>\n",
       "      <th>IsAvailable</th>\n",
       "    </tr>\n",
       "  </thead>\n",
       "  <tbody>\n",
       "    <tr>\n",
       "      <th>0</th>\n",
       "      <td>Amazon</td>\n",
       "      <td>red label natural care tea 1 kg</td>\n",
       "      <td>104.0</td>\n",
       "      <td>4.6</td>\n",
       "      <td>Coffee, Tea &amp; Beverages</td>\n",
       "      <td>104.0</td>\n",
       "      <td>0.0</td>\n",
       "      <td>True</td>\n",
       "    </tr>\n",
       "    <tr>\n",
       "      <th>1</th>\n",
       "      <td>Flipkart</td>\n",
       "      <td>red label tea box</td>\n",
       "      <td>195.0</td>\n",
       "      <td>4.4</td>\n",
       "      <td>beverages in tea</td>\n",
       "      <td>186.0</td>\n",
       "      <td>4.0</td>\n",
       "      <td>False</td>\n",
       "    </tr>\n",
       "    <tr>\n",
       "      <th>2</th>\n",
       "      <td>BigBasket</td>\n",
       "      <td>red label tea 500 gm carton + britannia 50-50 maska chaska biscuits 50 gm pouch</td>\n",
       "      <td>230.0</td>\n",
       "      <td>0.0</td>\n",
       "      <td>Beverages</td>\n",
       "      <td>230.0</td>\n",
       "      <td>0.0</td>\n",
       "      <td>True</td>\n",
       "    </tr>\n",
       "    <tr>\n",
       "      <th>3</th>\n",
       "      <td>Dmart</td>\n",
       "      <td>brooke bond red label natural care tea : 250 gms</td>\n",
       "      <td>135.0</td>\n",
       "      <td>0.0</td>\n",
       "      <td>Beverages</td>\n",
       "      <td>126.0</td>\n",
       "      <td>9.0</td>\n",
       "      <td>True</td>\n",
       "    </tr>\n",
       "  </tbody>\n",
       "</table>\n",
       "</div>"
      ],
      "text/plain": [
       "    Platform  \\\n",
       "0     Amazon   \n",
       "1   Flipkart   \n",
       "2  BigBasket   \n",
       "3      Dmart   \n",
       "\n",
       "                                                                       ProductName  \\\n",
       "0                                                  red label natural care tea 1 kg   \n",
       "1                                                                red label tea box   \n",
       "2  red label tea 500 gm carton + britannia 50-50 maska chaska biscuits 50 gm pouch   \n",
       "3                                 brooke bond red label natural care tea : 250 gms   \n",
       "\n",
       "   ActualPrice  Rating                 Category  SpecialPrice  Discount  \\\n",
       "0        104.0     4.6  Coffee, Tea & Beverages         104.0       0.0   \n",
       "1        195.0     4.4         beverages in tea         186.0       4.0   \n",
       "2        230.0     0.0                Beverages         230.0       0.0   \n",
       "3        135.0     0.0                Beverages         126.0       9.0   \n",
       "\n",
       "   IsAvailable  \n",
       "0         True  \n",
       "1        False  \n",
       "2         True  \n",
       "3         True  "
      ]
     },
     "metadata": {},
     "output_type": "display_data"
    },
    {
     "data": {
      "text/html": [
       "<style  type=\"text/css\" >\n",
       "    #T_d7622eea_a8b8_11ea_8cb2_2f583c1dbf85row0_col1 {\n",
       "            background-color:  lightgreen;\n",
       "        }</style><table id=\"T_d7622eea_a8b8_11ea_8cb2_2f583c1dbf85\" ><thead>    <tr>        <th class=\"col_heading level0 col0\" >Platform</th>        <th class=\"col_heading level0 col1\" >Rating</th>    </tr></thead><tbody>\n",
       "                <tr>\n",
       "                                <td id=\"T_d7622eea_a8b8_11ea_8cb2_2f583c1dbf85row0_col0\" class=\"data row0 col0\" >Amazon</td>\n",
       "                        <td id=\"T_d7622eea_a8b8_11ea_8cb2_2f583c1dbf85row0_col1\" class=\"data row0 col1\" >4.600000</td>\n",
       "            </tr>\n",
       "            <tr>\n",
       "                                <td id=\"T_d7622eea_a8b8_11ea_8cb2_2f583c1dbf85row1_col0\" class=\"data row1 col0\" >Flipkart</td>\n",
       "                        <td id=\"T_d7622eea_a8b8_11ea_8cb2_2f583c1dbf85row1_col1\" class=\"data row1 col1\" >4.400000</td>\n",
       "            </tr>\n",
       "            <tr>\n",
       "                                <td id=\"T_d7622eea_a8b8_11ea_8cb2_2f583c1dbf85row2_col0\" class=\"data row2 col0\" >BigBasket</td>\n",
       "                        <td id=\"T_d7622eea_a8b8_11ea_8cb2_2f583c1dbf85row2_col1\" class=\"data row2 col1\" >0.000000</td>\n",
       "            </tr>\n",
       "            <tr>\n",
       "                                <td id=\"T_d7622eea_a8b8_11ea_8cb2_2f583c1dbf85row3_col0\" class=\"data row3 col0\" >Dmart</td>\n",
       "                        <td id=\"T_d7622eea_a8b8_11ea_8cb2_2f583c1dbf85row3_col1\" class=\"data row3 col1\" >0.000000</td>\n",
       "            </tr>\n",
       "    </tbody></table>"
      ],
      "text/plain": [
       "<pandas.io.formats.style.Styler at 0x7f81f80f8350>"
      ]
     },
     "metadata": {},
     "output_type": "display_data"
    },
    {
     "data": {
      "image/png": "[encoded data removed]",
      "text/plain": [
       "<Figure size 720x504 with 1 Axes>"
      ]
     },
     "metadata": {},
     "output_type": "display_data"
    }
   ],
   "source": [
    "# recommended basedon price and ratings\n",
    "text = widgets.Text()\n",
    "print(tabulate([['Type the product name in below box and press enter to search.']], tablefmt='grid'))\n",
    "display(text)\n",
    "text.on_submit(search)"
   ]
  },
  {
   "cell_type": "code",
   "execution_count": 104,
   "metadata": {},
   "outputs": [
    {
     "name": "stdout",
     "output_type": "stream",
     "text": [
      "END OF NOTEBOOK\n"
     ]
    }
   ],
   "source": [
    "print('END OF NOTEBOOK')"
   ]
  }
 ],
 "metadata": {
  "kernelspec": {
   "display_name": "Python 3",
   "language": "python",
   "name": "python3"
  },
  "language_info": {
   "codemirror_mode": {
    "name": "ipython",
    "version": 3
   },
   "file_extension": ".py",
   "mimetype": "text/x-python",
   "name": "python",
   "nbconvert_exporter": "python",
   "pygments_lexer": "ipython3",
   "version": "3.7.6"
  }
 },
 "nbformat": 4,
 "nbformat_minor": 4
}
